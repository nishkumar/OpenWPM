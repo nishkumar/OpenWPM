{
 "cells": [
  {
   "cell_type": "code",
   "execution_count": 113,
   "metadata": {},
   "outputs": [],
   "source": [
    "from bs4 import BeautifulSoup\n",
    "import PIL.Image as Image\n",
    "import urllib2\n",
    "from urlparse import urlparse\n",
    "import os\n",
    "import requests"
   ]
  },
  {
   "cell_type": "code",
   "execution_count": 114,
   "metadata": {},
   "outputs": [],
   "source": [
    "html_files = []\n",
    "for file in os.listdir(os.getcwd()+'/sources'):\n",
    "    html_files.append(file)\n"
   ]
  },
  {
   "cell_type": "code",
   "execution_count": 115,
   "metadata": {},
   "outputs": [
    {
     "name": "stdout",
     "output_type": "stream",
     "text": [
      "11-63d1fa3d64b889ba4fbf960134eafa2c.html\n"
     ]
    }
   ],
   "source": [
    "print html_files[0]"
   ]
  },
  {
   "cell_type": "code",
   "execution_count": 116,
   "metadata": {},
   "outputs": [
    {
     "name": "stdout",
     "output_type": "stream",
     "text": [
      "11-63d1fa3d64b889ba4fbf960134eafa2c.html\n"
     ]
    }
   ],
   "source": [
    "# url = 'https://www.yahoo.com/'\n",
    "# print url\n",
    "# urlContent = urllib2.urlopen(url).read()\n",
    "\n",
    "# soup = BeautifulSoup(''.join(urlContent))\n",
    "    \n",
    "HTML = open('sources/' + html_files[0]).read()\n",
    "soup= BeautifulSoup(HTML, 'html.parser')\n",
    "print html_files[0]"
   ]
  },
  {
   "cell_type": "code",
   "execution_count": 117,
   "metadata": {},
   "outputs": [],
   "source": [
    "imgTagList =  soup.body.find_all('img')\n",
    "aList = soup.body.find_all('a')\n",
    "scriptTags = soup.find_all('script')"
   ]
  },
  {
   "cell_type": "code",
   "execution_count": 118,
   "metadata": {},
   "outputs": [
    {
     "data": {
      "text/plain": [
       "125"
      ]
     },
     "execution_count": 118,
     "metadata": {},
     "output_type": "execute_result"
    }
   ],
   "source": [
    "len(aList)"
   ]
  },
  {
   "cell_type": "code",
   "execution_count": 119,
   "metadata": {},
   "outputs": [],
   "source": [
    "imgTagSrc = []\n",
    "aHref = []\n",
    "scriptLink = []\n",
    "for imgItem, aItem, item in zip(imgTagList,aList, scriptTags):\n",
    "    try:\n",
    "        imgTagSrc.append(imgItem['src'])\n",
    "    except:\n",
    "        continue\n",
    "    try:\n",
    "        aHref.append(aItem['href'])\n",
    "    except:\n",
    "        continue\n",
    "    try:\n",
    "        scriptLink.append(item['src'])\n",
    "    except:\n",
    "        continue    \n",
    "    "
   ]
  },
  {
   "cell_type": "code",
   "execution_count": 120,
   "metadata": {},
   "outputs": [
    {
     "name": "stdout",
     "output_type": "stream",
     "text": [
      "Original URL: s.yimg.com Redirect URL: s.yimg.com\n",
      "Original URL: s.yimg.com Redirect URL: s.yimg.com\n",
      "Original URL: s.yimg.com Redirect URL: s.yimg.com\n",
      "Original URL: s.yimg.com Redirect URL: s.yimg.com\n"
     ]
    }
   ],
   "source": [
    "for link in scriptLink:\n",
    "    if len(link)>150:\n",
    "        try:\n",
    "            new_url = requests.get(link).url\n",
    "            old_domain = urlparse(link).hostname\n",
    "            new_domain = urlparse(new_url).hostname\n",
    "        #     if old_domain!=new_domain:\n",
    "            print \"Original URL:\", urlparse(link).hostname, \"Redirect URL:\",urlparse(new_url).hostname\n",
    "        except:\n",
    "            print \"Invalid URL: \",link"
   ]
  },
  {
   "cell_type": "code",
   "execution_count": 121,
   "metadata": {},
   "outputs": [],
   "source": [
    "links = []\n",
    "for item in aList:\n",
    "    try:\n",
    "        links.append(item['href'])\n",
    "    except:\n",
    "        continue"
   ]
  },
  {
   "cell_type": "code",
   "execution_count": 122,
   "metadata": {},
   "outputs": [
    {
     "data": {
      "text/plain": [
       "[<a class=\"C(#fff) Fz(13px)\" data-rapid_p=\"1\" data-ylk=\"slk:home;t5:home;cpos:1;\" href=\"https://www.yahoo.com/\" tabindex=\"1\"><i class=\"Pos(a) Fz(15px) Start(10px) T(-2px) Icon-Fp2 IconHome\"></i>Home</a>,\n",
       " <a class=\"C(#fff) Fz(13px)\" data-rapid_p=\"2\" data-ylk=\"slk:mail;t5:mail;cpos:2;\" href=\"https://mail.yahoo.com/\" tabindex=\"1\"><i class=\"Pos(a) Fz(15px) Start(10px) T(-2px) \"></i>Mail</a>,\n",
       " <a class=\"C(#fff) Fz(13px)\" data-rapid_p=\"3\" data-ylk=\"slk:flickr;t5:flickr;cpos:3;\" href=\"https://www.flickr.com/\" tabindex=\"1\"><i class=\"Pos(a) Fz(15px) Start(10px) T(-2px) \"></i>Flickr</a>,\n",
       " <a class=\"C(#fff) Fz(13px)\" data-rapid_p=\"4\" data-ylk=\"slk:tumblr;t5:tumblr;cpos:4;\" href=\"https://www.tumblr.com/\" tabindex=\"1\"><i class=\"Pos(a) Fz(15px) Start(10px) T(-2px) \"></i>Tumblr</a>,\n",
       " <a class=\"C(#fff) Fz(13px)\" data-rapid_p=\"5\" data-ylk=\"slk:entertainment;t5:entertainment;cpos:5;\" href=\"https://www.yahoo.com/entertainment/\" tabindex=\"1\"><i class=\"Pos(a) Fz(15px) Start(10px) T(-2px) \"></i>Entertainment</a>,\n",
       " <a class=\"C(#fff) Fz(13px)\" data-rapid_p=\"6\" data-ylk=\"slk:lifestyle;t5:lifestyle;cpos:6;\" href=\"https://www.yahoo.com/lifestyle/\" tabindex=\"1\"><i class=\"Pos(a) Fz(15px) Start(10px) T(-2px) \"></i>Lifestyle</a>,\n",
       " <a class=\"C(#fff) Fz(13px)\" data-rapid_p=\"7\" data-ylk=\"slk:mobile;t5:mobile;cpos:7;\" href=\"https://mobile.yahoo.com/\" tabindex=\"1\"><i class=\"Pos(a) Fz(15px) Start(10px) T(-2px) \"></i>Mobile</a>,\n",
       " <a class=\"C(#fff) Fz(13px)\" data-rapid_p=\"8\" data-ylk=\"slk:view;t5:view;cpos:8;\" href=\"https://view.yahoo.com/?utm_source=yahoo&amp;utm_medium=referral&amp;utm_campaign=topbar\" tabindex=\"1\"><i class=\"Pos(a) Fz(15px) Start(10px) T(-2px) \"></i>View</a>,\n",
       " <a class=\"navigation-menu-title Pos(r) C(#fff) Pstart(12px) Pend(24px) Py(4px) Fz(13px) menu-open_C($topbarMenu) menu-open_Bgc(#fff) menu-open_Z(8) rapidnofollow\" data-rapid_p=\"9\" data-ylk=\"rspns:op;t5:more;slk:more;itc:1;elmt:mu;cpos:9;\" href=\"https://www.yahoo.com/everything/\" tabindex=\"1\">More<i class=\"Pos(a) Pt(2px) Pstart(6px) Fw(b) Icon-Fp2 IconDownCaret\"></i></a>,\n",
       " <a class=\"D(b) Fz(13px) C($topbarMenu) Py(3px) Td(n) Td(u):h\" data-rapid_p=\"10\" data-ylk=\"slk:politics;t5:politics;cpos:10;\" href=\"https://www.yahoo.com/news/politics/\" tabindex=\"1\">Politics</a>,\n",
       " <a class=\"D(b) Fz(13px) C($topbarMenu) Py(3px) Td(n) Td(u):h\" data-rapid_p=\"11\" data-ylk=\"slk:answers;t5:answers;cpos:11;\" href=\"https://answers.yahoo.com/\" tabindex=\"1\">Answers</a>,\n",
       " <a class=\"D(b) Fz(13px) C($topbarMenu) Py(3px) Td(n) Td(u):h\" data-rapid_p=\"12\" data-ylk=\"slk:groups;t5:groups;cpos:12;\" href=\"https://groups.yahoo.com/\" tabindex=\"1\">Groups</a>,\n",
       " <a class=\"D(b) Fz(13px) C($topbarMenu) Py(3px) Td(n) Td(u):h\" data-rapid_p=\"13\" data-ylk=\"slk:music;t5:music;cpos:13;\" href=\"https://www.yahoo.com/music/\" tabindex=\"1\">Music</a>,\n",
       " <a class=\"D(b) Fz(13px) C($topbarMenu) Py(3px) Td(n) Td(u):h\" data-rapid_p=\"14\" data-ylk=\"slk:tech;t5:tech;cpos:14;\" href=\"https://www.yahoo.com/tech/\" tabindex=\"1\">Tech</a>,\n",
       " <a class=\"D(b) Fz(13px) C($topbarMenu) Py(3px) Td(n) Td(u):h\" data-rapid_p=\"15\" data-ylk=\"slk:shopping;t5:shopping;cpos:15;\" href=\"https://shopping.yahoo.com/\" tabindex=\"1\">Shopping</a>,\n",
       " <a class=\"C(#fff)\" data-rapid_p=\"16\" href=\"#\">Make Yahoo Your Homepage<span>\\xa0\\xbb</span></a>,\n",
       " <a class=\"D(ib) Bgr(nr) logo-datauri W(190px) H(45px) Bgp($twoColLogoPos) Bgz(190px) Bgp($twoColLogoPosSM)!--sm1024 Bgz(90px)!--sm1024 ua-ie7_Bgi($logoImageIe) ua-ie7_Mstart(-185px) ua-ie8_Bgi($logoImageIe) ua-ie9_Bgi($logoImageIe)\" data-rapid_p=\"17\" data-ylk=\"rspns:nav;t1:a1;t2:hd;sec:hd;itc:0;slk:logo;elm:img;elmt:logo;\" href=\"https://www.yahoo.com/\" id=\"uh-logo\" tabindex=\"1\">\\n<b class=\"Hidden\">Yahoo</b>\\n</a>,\n",
       " <a class=\"Bdrs(3px) Bds(s) Bdw(2px) D(ib) Ell Fz(13px) Fw(b) Py(2px) Mt(5px) Ta(c) Td(n):h Miw(78px) H(19px) Lh(19px) Bdc(#6001d2) Bgc(#fff) Bgc(#6001d2):h C(#4d00ae) C(#fff):h\" data-action-outcome=\"lgn\" data-rapid_p=\"18\" data-ylk=\"t3:usr;elm:btn;elmt:lgn;\" href=\"https://login.yahoo.com/config/login?.src=fpctx&amp;.intl=us&amp;.lang=en-US&amp;.done=https%3A%2F%2Fwww.yahoo.com\" id=\"uh-signin\" tabindex=\"4\">Sign in</a>,\n",
       " <a class=\"yns-link\" data-ylk=\"elm:hdln;subsec:notifications-brknews;pos:1;slk:North Korea reportedly threatens to cancel Trump-Kim summit over U.S.'s joint military exercises with South Korea;elmt:seen;cat:unfresh;g:9f22e90f-2f22-32b0-aac1-111fbe051a1e;\" href=\"https://www.yahoo.com/news/skorea-news-agency-nkorea-threatens-192035374.html?.tsrc=bell-brknews\" target=\"_blank\"><img class=\"yns-img yns-redImg\" src=\"https://s.yimg.com/cv/ae/news/Purple-News.png\"/><div class=\"yns-content\"><span class=\"yns-title\" title=\"North Korea reportedly threatens to cancel Trump-Kim summit over U.S.'s joint military exercises with South Korea\">North Korea reportedly threatens to cancel Trump-Kim summit over U.S.'s joint military exercises with South Korea</span><span class=\"yns-time\">13h</span><span class=\"yns-ell\"></span></div></a>,\n",
       " <a class=\"yns-link\" data-ylk=\"elm:hdln;subsec:notifications-brknews;pos:2;slk:Pioneering 'New Journalist' Tom Wolfe, author of 'The Right Stuff and 'The Bonfire of the Vanities,' dies at 88;elmt:seen;cat:unfresh;g:1b39dd51-1e7d-3f45-a3ab-8b0cb14d1e2c;\" href=\"https://www.yahoo.com/movies/tom-wolfe-pioneering-journalist-dead-152142899.html?.tsrc=bell-brknews\" target=\"_blank\"><img class=\"yns-img yns-redImg\" src=\"https://s.yimg.com/cv/ae/news/Purple-News.png\"/><div class=\"yns-content\"><span class=\"yns-title\" title=\"Pioneering 'New Journalist' Tom Wolfe, author of 'The Right Stuff and 'The Bonfire of the Vanities,' dies at 88\">Pioneering 'New Journalist' Tom Wolfe, author of 'The Right Stuff and 'The Bonfire of the Vanities,' dies at 88</span><span class=\"yns-time\">16h</span><span class=\"yns-ell\"></span></div></a>,\n",
       " <a class=\"yns-link\" data-ylk=\"elm:hdln;subsec:notifications-brknews;pos:3;slk:First lady Melania Trump undergoes surgery for benign kidney condition and will likely remain hospitalized for rest of week, White House says;elmt:seen;cat:unfresh;g:c8835d67-66c5-30e1-9bbb-81fb4154bfaf;\" href=\"https://www.yahoo.com/entertainment/melania-trump-treated-benign-kidney-condition-hospital-192308435.html?.tsrc=bell-brknews\" target=\"_blank\"><img class=\"yns-img yns-redImg\" src=\"https://s.yimg.com/cv/ae/news/Purple-News.png\"/><div class=\"yns-content\"><span class=\"yns-title\" title=\"First lady Melania Trump undergoes surgery for benign kidney condition and will likely remain hospitalized for rest of week, White House says\">First lady Melania Trump undergoes surgery for benign kidney condition and will likely remain hospitalized for rest of week, White House says</span><span class=\"yns-time\">2d</span><span class=\"yns-ell\"></span></div></a>,\n",
       " <a class=\"yns-link\" data-ylk=\"elm:hdln;subsec:notifications-brknews;pos:4;slk: \\U0001f3c0\\U0001f3c8\\U0001f4b8Supreme Court strikes down federal gambling ban, making sports betting a possibility nationwide;elmt:seen;cat:unfresh;g:77a9c9a2-51a1-3236-a26a-f0e7ef9ef5a8;\" href=\"https://finance.yahoo.com/news/supreme-court-makes-sports-betting-possibility-nationwide-141246044--spt.html?.tsrc=bell-brknews\" target=\"_blank\"><img class=\"yns-img yns-redImg\" src=\"https://s.yimg.com/cv/ae/news/Purple-News.png\"/><div class=\"yns-content\"><span class=\"yns-title\" title=\" \\U0001f3c0\\U0001f3c8\\U0001f4b8Supreme Court strikes down federal gambling ban, making sports betting a possibility nationwide\"> \\U0001f3c0\\U0001f3c8\\U0001f4b8Supreme Court strikes down federal gambling ban, making sports betting a possibility nationwide</span><span class=\"yns-time\">2d</span><span class=\"yns-ell\"></span></div></a>,\n",
       " <a class=\"yns-link\" data-ylk=\"elm:hdln;subsec:notifications-brknews;pos:5;slk:'Many may get martyred today': Israeli forces kill dozens of Palestinian protesters in Gaza as anger mounts over U.S. Embassy;elmt:seen;cat:unfresh;g:354ff4aa-6267-3cff-9332-204e71832f34;\" href=\"https://www.yahoo.com/news/israeli-military-drops-warning-leaflets-gaza-border-protests-064911949.html?.tsrc=bell-brknews\" target=\"_blank\"><img class=\"yns-img yns-redImg\" src=\"https://s.yimg.com/cv/ae/news/Purple-News.png\"/><div class=\"yns-content\"><span class=\"yns-title\" title=\"'Many may get martyred today': Israeli forces kill dozens of Palestinian protesters in Gaza as anger mounts over U.S. Embassy\">'Many may get martyred today': Israeli forces kill dozens of Palestinian protesters in Gaza as anger mounts over U.S. Embassy</span><span class=\"yns-time\">2d</span><span class=\"yns-ell\"></span></div></a>,\n",
       " <a class=\"yns-navigate-center\" data-ylk=\"sec:hd;subsec:notifications-viewall;slk:View all  notifications;\" href=\"null\">View all  notifications</a>,\n",
       " <a aria-expanded=\"true\" aria-haspopup=\"true\" aria-label=\"Mail\" class=\"Pos(r) D(ib) Ta(s) Td(n):h uh-menu-btn\" data-rapid_p=\"20\" data-ylk=\"sec:hd;slk:Mail;t1:a1;t2:hd;elm:btn;itc:0;\" href=\"https://mail.yahoo.com/\" id=\"uh-mail-link\" role=\"button\" tabindex=\"6\"><i class=\"uh-mail-icon Lh($userNavIconLh) W(28px) C(#6001d2) Mend(10px) Fz(30px) Grid-U Icon-Fp2 IconMail\"></i><span class=\" D(ib) Fz(14px) Fw(b) Va(t) C(#4d00ae) Lh(37px)\">Mail</span>\\n<span class=\"uh-mail-count D(n) display-count_D(b) Pos(a) T(-7px) Start(16px) Fw(b) Ta(c) Bg($fujiGradient) Bgc(#ff333a) C(#fff) Op(.89) W(24px) H(17px) Fz(14px) Pt(3px) Pb(4px) Bdrs(24px)\"></span>\\n</a>,\n",
       " <a class=\"C($menuLink) Fw(b) Td(n)\" data-action-outcome=\"lgn\" data-rapid_p=\"21\" data-ylk=\"t3:usr;elm:btn;elmt:lgn;\" href=\"https://login.yahoo.com/config/login?.src=fpctx&amp;.intl=us&amp;.lang=en-US&amp;.done=https%3A%2F%2Fwww.yahoo.com\">Sign in</a>,\n",
       " <a class=\"W(0) O(h) D(ib) Whs(nw) Pos(a) Bg(#0078ff) C(#fff) Op(0) W(a):f Op(1):f P(5px):f Ov(h) Ov(v):f\" data-rapid_p=\"31\" href=\"#mega-bottombar-mail\" tabindex=\"3\">Skip to Navigation</a>,\n",
       " <a class=\"W(0) O(h) D(ib) Whs(nw) Pos(a) Bg(#0078ff) C(#fff) Op(0) W(a):f Op(1):f P(5px):f Ov(h) Ov(v):f\" data-rapid_p=\"32\" href=\"#Main\" tabindex=\"3\">Skip to Main content</a>,\n",
       " <a class=\"W(0) O(h) D(ib) Whs(nw) Pos(a) Bg(#0078ff) C(#fff) Op(0) W(a):f Op(1):f P(5px):f Ov(h) Ov(v):f\" data-rapid_p=\"33\" href=\"#Aside\" tabindex=\"3\">Skip to Related content</a>,\n",
       " <a class=\"C(#4d00ae) Fz(14px) Fw(b) Pstart(6px) C(#4d00ae)\" data-rapid_p=\"34\" data-ylk=\"sec:nav;slk:mail;rspns:nav;t1:a1;t2:hd;t3:tb;t5:mail;itc:0;elm:itm;elmt:pty;cpos:false;\" href=\"https://mail.yahoo.com/\" id=\"mega-bottombar-mail\"><i class=\"Pos(a) Fz(28px) Fw(100) Start(-23px) T(-9px) Icon-Fp2 IconMail C(#6001d2)\"></i><b class=\"Pos(a) Bdrs(11px) W(8px) H(8px) T(-7px) Start(-4px) Bd($mailDotBdr) D(n)! Bg($fujiGradient)\" id=\"bottombar-mail-dot\"></b><span class=\"Mstart(2px)\">Mail</span><div class=\"D(ib) Fz(13px) Fw(n) Mstart(3px) D(n)!\" id=\"bottombar-mail-count\">(<span class=\"Mx(2px) Fz(14px)\" id=\"bottombar-mail-count-num\"></span>)</div></a>,\n",
       " <a class=\"Fz(14px) Fw(b) C(#4d00ae)\" data-rapid_p=\"35\" data-ylk=\"sec:nav;slk:news;rspns:nav;t1:a1;t2:hd;t3:tb;t5:news;itc:0;elm:itm;elmt:pty;cpos:false;\" href=\"https://www.yahoo.com/news/\"><i class=\"Pos(a) Fz(15px) Start(10px) T(-2px) C(#6001d2)\"></i>News</a>,\n",
       " <a class=\"Fz(14px) Fw(b) C(#4d00ae)\" data-rapid_p=\"36\" data-ylk=\"sec:nav;slk:finance;rspns:nav;t1:a1;t2:hd;t3:tb;t5:finance;itc:0;elm:itm;elmt:pty;cpos:false;\" href=\"https://finance.yahoo.com/\"><i class=\"Pos(a) Fz(15px) Start(10px) T(-2px) C(#6001d2)\"></i>Finance</a>,\n",
       " <a class=\"Fz(14px) Fw(b) C(#4d00ae)\" data-rapid_p=\"37\" data-ylk=\"sec:nav;slk:sports;rspns:nav;t1:a1;t2:hd;t3:tb;t5:sports;itc:0;elm:itm;elmt:pty;cpos:false;\" href=\"https://sports.yahoo.com/\"><i class=\"Pos(a) Fz(15px) Start(10px) T(-2px) C(#6001d2)\"></i>Sports</a>,\n",
       " <a class=\"Fz(14px) Fw(b) C(#4d00ae)\" data-rapid_p=\"38\" data-ylk=\"sec:nav;slk:politics;rspns:nav;t1:a1;t2:hd;t3:tb;t5:politics;itc:0;elm:itm;elmt:pty;cpos:false;\" href=\"https://www.yahoo.com/news/politics/\"><i class=\"Pos(a) Fz(15px) Start(10px) T(-2px) C(#6001d2)\"></i>Politics</a>,\n",
       " <a class=\"Fz(14px) Fw(b) C(#4d00ae)\" data-rapid_p=\"39\" data-ylk=\"sec:nav;slk:entertainment;rspns:nav;t1:a1;t2:hd;t3:tb;t5:entertainment;itc:0;elm:itm;elmt:pty;cpos:false;\" href=\"https://www.yahoo.com/entertainment/\"><i class=\"Pos(a) Fz(15px) Start(10px) T(-2px) C(#6001d2)\"></i>Entertainment</a>,\n",
       " <a class=\"Fz(14px) Fw(b) C(#4d00ae)\" data-rapid_p=\"40\" data-ylk=\"sec:nav;slk:lifestyle;rspns:nav;t1:a1;t2:hd;t3:tb;t5:lifestyle;itc:0;elm:itm;elmt:pty;cpos:false;\" href=\"https://www.yahoo.com/lifestyle/\"><i class=\"Pos(a) Fz(15px) Start(10px) T(-2px) C(#6001d2)\"></i>Lifestyle</a>,\n",
       " <a class=\"Fz(14px) Fw(b) C(#4d00ae)\" data-rapid_p=\"41\" data-ylk=\"sec:nav;slk:more;rspns:nav;t1:a1;t2:hd;t3:tb;t5:more;itc:0;elm:itm;elmt:pty;cpos:false;\" href=\"https://www.yahoo.com/everything/\"><i class=\"Pos(a) Fz(15px) Start(10px) T(-2px) C(#6001d2)\"></i>More...</a>,\n",
       " <a \"=\"\" class=\"Bgr(nr) W(61%)! Bgp(c) O(n):f Bgz(cv) D(b) C(#000) css-filters_C(white) Td(n) Ov(h) Op(0.9):h Op(0.9):f Ov(v):h Ov(v):f Bdrststart(2px) Bdrsbstart(2px) ntk-link js-stream-content-link js-content-title js-stream-roundup-filmstrip js-content-viewer rapid-noclick-resp rapidnofollow\" data-rapid_p=\"1\" data-v9y=\"1\" data-ylk=\"cpos:1;cposy:1;bpos:1;pos:1;ss_cid:beb0e4a9-de59-3723-9725-f79348be5415;refcnt:5;subsec:needtoknow;imgt:ss;g:beb0e4a9-de59-3723-9725-f79348be5415;aid:1407e4d7-7170-3b6c-b82f-007dc9896c7d;expb:0;ct:1;pkgt:need_to_know;grpt:roundup;cnt_tpc:Need To Know;slk:Why Prince William may need to leave royal wedding early;elm:img;elmt:ct;r:false;ccode:mega_sieve_offnet;\" href=\"https://sports.yahoo.com/prince-william-might-leave-prince-harrys-wedding-watch-fa-cup-final-170512600.html\">\\n<img alt=\"\" class=\"W(100%) Mih(215px) Mih(277px)--miw1200\" src=\"https://s.yimg.com/uu/api/res/1.2/k7VEUKTkdtuTG2donZWCvA--~B/Zmk9c3RyaW07aD0zODg7cHlvZmY9MDtxPTk1O3c9NzIwO3NtPTE7YXBwaWQ9eXRhY2h5b24-/https://media.zenfs.com/creatr-images/GLB/2018-05-15/70ab4d60-5876-11e8-8644-db815271a55e_image-398\" title=\"Will Prince William ditch the royal wedding for soccer? (AP)\"/>\\n<div class=\"Pos(a) Ov(h) Start(3/5) Mstart(5px) T(0) B(0) End(0) Z(2) Bdrstend(2px) Bdrsbend(2px) ntk-img-path\">\\n<div class=\"Pos(a) Start(0) Z(2) T(0) End(0) B(0) css-blur Bgr(nr) Bgp(end_c) Bgz(cv) ntk-img-crop\" style=\"background-image:url(https://s.yimg.com/uu/api/res/1.2/k7VEUKTkdtuTG2donZWCvA--~B/Zmk9c3RyaW07aD0zODg7cHlvZmY9MDtxPTk1O3c9NzIwO3NtPTE7YXBwaWQ9eXRhY2h5b24-/https://media.zenfs.com/creatr-images/GLB/2018-05-15/70ab4d60-5876-11e8-8644-db815271a55e_image-398);\"></div>\\n</div>\\n<div class=\"Pos(a) End(0) T(0) B(0) W(2/5) Z(2) ntk-content\">\\n<div class=\"P(20px) Pstart(27px) P(35px)--miw1200 Pstart(42px)--miw1200\">\\n<h2 class=\"js-stream-item-title Fz(23px) Fz(18px)--md1100 Td(u):h js-stream-content-link:f_Td(u) LineClamp(4,5.3em) Mb(13px) Lh(1.15)\">Why Prince William may need to leave royal wedding early</h2>\\n<p class=\"LineClamp(4,5.3em) LineClamp(3,4em)--md1100 M(0) Lh(1.35) Mb(5px)\">Prince Harry is getting married on Saturday, but his older brother and best man, Prince William, might have to leave early to attend an important soccer match.</p>\\n<span class=\"Fw(b) Td(u):h\">Can he do both?\\xa0\\xbb</span>\\n</div>\\n</div>\\n</a>,\n",
       " <a class=\"C($gray_fuji) css-filters_C(white) D(ib) Pt(6px) Px(7px) Px(10px)--miw1200 Pos(r) Td(n) Td(n):f O(n) O(n):f js-stream-comments-button js-content-viewer rapid-noclick-resp rapidnofollow ActionComments:h_C($signin_blue)! js-use-reactions-anim\" data-rapid_p=\"2\" data-v9y=\"1\" data-ylk=\"cpos:1;cposy:1;bpos:1;pos:1;ss_cid:beb0e4a9-de59-3723-9725-f79348be5415;refcnt:5;subsec:1085;imgt:ss;g:beb0e4a9-de59-3723-9725-f79348be5415;aid:1407e4d7-7170-3b6c-b82f-007dc9896c7d;expb:0;ct:1;pkgt:need_to_know;grpt:roundup;cnt_tpc:Need To Know;r:false;ccode:mega_sieve_offnet;t4:ctrl;elm:btn;slk:cmmt;itc:0;\" href=\"https://sports.yahoo.com/prince-william-might-leave-prince-harrys-wedding-watch-fa-cup-final-170512600.html\" id=\"yui_3_18_0_3_1526458111870_689\" role=\"button\" tabindex=\"0\"><i class=\"Icon-Fp2 IconComments Va(m) D(ib) Mend(8px) Fz(21px) Mt(-1px) \"></i><span class=\"js-stream-comment-counter Fw(b) D(ib) Va(m) Cur(p) Fz(11px) Va(1px)\" id=\"yui_3_18_0_3_1526458111870_688\">1085</span><span class=\"js-comments-reacting Fw(b) D(ib) Mstart(4px) Fz(11px) Va(1px)\">people reacting</span></a>,\n",
       " <a class=\"Pos(r) D(b) Mend(9px) C($link) C($m_blue):h C($m_blue):f O(n):f Op(0.9):h Op(0.9):f Td(n) W(a) ntk-footer-link js-stream-content-link js-stream-item-title js-content-title js-content-viewer rapid-noclick-resp rapidnofollow\" data-rapid_p=\"3\" data-uuid=\"3a3b920a-c93f-31ca-bd2b-bdc4cc253ddf\" data-v9y=\"1\" data-ylk=\"cpos:1;cposy:2;bpos:1;pos:2;ss_cid:beb0e4a9-de59-3723-9725-f79348be5415;refcnt:5;subsec:needtoknow;imgt:ss;g:3a3b920a-c93f-31ca-bd2b-bdc4cc253ddf;aid:51ad7fcf-5c57-318e-8f58-67e5549ca971;expb:0;ct:1;pkgt:need_to_know;grpt:roundup;cnt_tpc:Need To Know;slk:N. Korea: No summit if forced to give up nukes;elm:rhdln;elmt:ct;r:false;ccode:mega_sieve_offnet;t4:rel;\" href=\"https://www.yahoo.com/news/north-korea-casts-doubt-trump-summit-suspends-talks-023240833.html\"><img alt=\"\" class=\"W(100%) Mih(56px) Mih(73px)--miw1200 rounded-img\" src=\"https://s.yimg.com/uu/api/res/1.2/EJFvARrvJUna8PmV7QV9qg--~B/Zmk9c3RyaW07aD0xNjA7cHlvZmY9MDtxPTgwO3c9MzQwO3NtPTE7YXBwaWQ9eXRhY2h5b24-/https://media.zenfs.com/creatr-images/GLB/2018-05-15/6d6c7610-5876-11e8-b5d2-edc3decb92ae_image-5790\" title=\"President Trump, left, and North Korean leader Kim Jong Un (Getty Images)\"/><h3 class=\"M(0) Mt(4px) Fz(12px) LineClamp(2,2.6em) LineClamp(3,4em)--md1100 js-stream-content-link:f_Td(u) T(70%) js-stream-content-link:f_Td(n)! Start(2px) Td(u):h\">N. Korea: No summit if forced to give up nukes</h3></a>,\n",
       " <a class=\"Pos(r) D(b) Mend(9px) C($link) C($m_blue):h C($m_blue):f O(n):f Op(0.9):h Op(0.9):f Td(n) W(a) ntk-footer-link js-stream-content-link js-stream-item-title js-content-title js-content-viewer rapid-noclick-resp rapidnofollow\" data-rapid_p=\"4\" data-uuid=\"5163144b-3e78-3eb9-9be8-7a63cdc181e8\" data-v9y=\"1\" data-ylk=\"cpos:1;cposy:3;bpos:1;pos:3;ss_cid:beb0e4a9-de59-3723-9725-f79348be5415;refcnt:5;subsec:needtoknow;imgt:ss;g:5163144b-3e78-3eb9-9be8-7a63cdc181e8;aid:cef0cffb-7266-3128-93d7-d1540101f2af;expb:0;ct:1;pkgt:need_to_know;grpt:roundup;cnt_tpc:Need To Know;slk:'Thrones' star blushes over Pitt's $120K bid on her;elm:rhdln;elmt:ct;r:false;ccode:mega_sieve_offnet;t4:rel;\" href=\"https://www.yahoo.com/entertainment/emilia-clarke-calls-brad-pitts-120k-bid-watch-game-thrones-weirdest-experience-whole-life-150027389.html\"><img alt=\"\" class=\"W(100%) Mih(56px) Mih(73px)--miw1200 rounded-img\" src=\"https://s.yimg.com/uu/api/res/1.2/MRiejwk4QE19HCQQrZKBsg--~B/Zmk9c3RyaW07aD0xNjA7cHlvZmY9MDtxPTgwO3c9MzQwO3NtPTE7YXBwaWQ9eXRhY2h5b24-/https://media.zenfs.com/creatr-images/GLB/2018-05-15/67990c00-5888-11e8-8397-05b4018191eb_image-3093\" title=\"Emilia Clarke and Brad Pitt (Getty Images)\"/><h3 class=\"M(0) Mt(4px) Fz(12px) LineClamp(2,2.6em) LineClamp(3,4em)--md1100 js-stream-content-link:f_Td(u) T(70%) js-stream-content-link:f_Td(n)! Start(2px) Td(u):h\">'Thrones' star blushes over Pitt's $120K bid on her</h3></a>,\n",
       " <a class=\"Pos(r) D(b) Mend(9px) C($link) C($m_blue):h C($m_blue):f O(n):f Op(0.9):h Op(0.9):f Td(n) W(a) ntk-footer-link js-stream-content-link js-stream-item-title js-content-title js-content-viewer rapid-noclick-resp rapidnofollow\" data-rapid_p=\"5\" data-uuid=\"0c3a3aa9-a2d9-34ee-a9be-03cd9d6946db\" data-v9y=\"1\" data-ylk=\"cpos:1;cposy:4;bpos:1;pos:4;ss_cid:beb0e4a9-de59-3723-9725-f79348be5415;refcnt:5;subsec:needtoknow;imgt:ss;g:0c3a3aa9-a2d9-34ee-a9be-03cd9d6946db;aid:e36448fb-6097-3bb3-bf1d-704e956778ad;expb:0;ct:1;pkgt:need_to_know;grpt:roundup;cnt_tpc:Need To Know;slk:'NCIS' star alleges 'multiple physical assaults';elm:rhdln;elmt:ct;r:false;ccode:mega_sieve_offnet;t4:rel;\" href=\"https://www.yahoo.com/news/pauley-perrette-reveals-apos-multiple-103934839.html\"><img alt=\"\" class=\"W(100%) Mih(56px) Mih(73px)--miw1200 rounded-img\" src=\"https://s.yimg.com/uu/api/res/1.2/4K6eUoNaa_a6pu9Wmjvcjw--~B/Zmk9c3RyaW07aD0xNjA7cHlvZmY9MDtxPTgwO3c9MzQwO3NtPTE7YXBwaWQ9eXRhY2h5b24-/https://media.zenfs.com/creatr-images/GLB/2018-05-15/111b43a0-5844-11e8-8327-d7803c071de9_image-7962\" title=\"Pauley Perrette (Reuters)\"/><h3 class=\"M(0) Mt(4px) Fz(12px) LineClamp(2,2.6em) LineClamp(3,4em)--md1100 js-stream-content-link:f_Td(u) T(70%) js-stream-content-link:f_Td(n)! Start(2px) Td(u):h\">'NCIS' star alleges 'multiple physical assaults'</h3></a>,\n",
       " <a class=\"Pos(r) D(b) Mend(9px) C($link) C($m_blue):h C($m_blue):f O(n):f Op(0.9):h Op(0.9):f Td(n) W(a) ntk-footer-link js-stream-content-link js-stream-item-title js-content-title js-content-viewer rapid-noclick-resp rapidnofollow\" data-rapid_p=\"6\" data-uuid=\"0121260c-1b4f-33a5-8dea-5d762b3d2e49\" data-v9y=\"1\" data-ylk=\"cpos:1;cposy:5;bpos:1;pos:5;ss_cid:beb0e4a9-de59-3723-9725-f79348be5415;refcnt:5;subsec:needtoknow;imgt:ss;g:0121260c-1b4f-33a5-8dea-5d762b3d2e49;aid:775471c1-0567-37ca-a5e6-cabda1edf570;expb:0;ct:1;pkgt:need_to_know;grpt:roundup;cnt_tpc:Need To Know;slk:Man whose blood saved 2.4M babies makes last donation;elm:rhdln;elmt:ct;r:false;ccode:mega_sieve_offnet;t4:rel;\" href=\"https://www.yahoo.com/gma/man-whose-blood-saved-over-2-4-million-114004232--abc-news-topstories.html\"><img alt=\"\" class=\"W(100%) Mih(56px) Mih(73px)--miw1200 rounded-img\" src=\"https://s.yimg.com/uu/api/res/1.2/RB71pcl4o0MzEAq0UpnXFg--~B/Zmk9c3RyaW07aD0xNjA7cHlvZmY9MDtxPTgwO3c9MzQwO3NtPTE7YXBwaWQ9eXRhY2h5b24-/https://media.zenfs.com/creatr-images/GLB/2018-05-15/0f7083c0-589a-11e8-8d1a-0d130ac49314_image-6501\" title='James Harrison, nicknamed \"the man with the golden arm,\" donates blood for the last time. (ABC News)'/><h3 class=\"M(0) Mt(4px) Fz(12px) LineClamp(2,2.6em) LineClamp(3,4em)--md1100 js-stream-content-link:f_Td(u) T(70%) js-stream-content-link:f_Td(n)! Start(2px) Td(u):h\">Man whose blood saved 2.4M babies makes last donation</h3></a>,\n",
       " <a class=\"Pos(r) D(b) Mend(9px) C($link) C($m_blue):h C($m_blue):f O(n):f Op(0.9):h Op(0.9):f Td(n) W(a) ntk-footer-link js-stream-content-link js-stream-item-title js-content-title js-content-viewer rapid-noclick-resp rapidnofollow\" data-rapid_p=\"7\" data-uuid=\"fa761c3b-2dcc-308f-8c8a-60e8a4823f1d\" data-v9y=\"1\" data-ylk=\"cpos:1;cposy:6;bpos:1;pos:6;ss_cid:beb0e4a9-de59-3723-9725-f79348be5415;refcnt:5;subsec:needtoknow;imgt:ss;g:fa761c3b-2dcc-308f-8c8a-60e8a4823f1d;aid:bc1e1861-26a6-3b6b-98e3-57e81b3e3f8e;expb:0;ct:1;pkgt:need_to_know;grpt:roundup;cnt_tpc:Need To Know;slk:Actor stopped rooting for team after losing free tix;elm:rhdln;elmt:ct;r:false;ccode:mega_sieve_offnet;t4:rel;\" href=\"https://sports.yahoo.com/ethan-hawke-quit-knicks-fan-stopped-getting-free-tickets-230959289.html\"><img alt=\"\" class=\"W(100%) Mih(56px) Mih(73px)--miw1200 rounded-img\" src=\"https://s.yimg.com/uu/api/res/1.2/HAfS4WKBu0Aa_obsmypL2w--~B/Zmk9c3RyaW07aD0xNjA7cHlvZmY9MDtxPTgwO3c9MzQwO3NtPTE7YXBwaWQ9eXRhY2h5b24-/https://media.zenfs.com/creatr-images/GLB/2018-05-16/ba3c4200-58bb-11e8-8092-2b6f43ebd21a_image-2520\" title=\"Ethan Hawke enjoys what presumably is a free seat at a New York Knicks game in 2007. (Getty)\"/><h3 class=\"M(0) Mt(4px) Fz(12px) LineClamp(2,2.6em) LineClamp(3,4em)--md1100 js-stream-content-link:f_Td(u) T(70%) js-stream-content-link:f_Td(n)! Start(2px) Td(u):h\">Actor stopped rooting for team after losing free tix</h3></a>,\n",
       " <a class=\"D(ib) Ell Td(n) C(white) Bdc(white) Bds(s) Bdrs(2px) Bdw(t) Py(4px) Px(10px) Cur(p) Fz(12px) js-content-viewer rapid-noclick-resp rapidnofollow\" data-rapid_p=\"8\" data-share-link=\"https://www.lovebscott.com/say-now-teacher-busted-affair-underage-student-found-shot-death-outside-mothers-home\" data-v9y=\"1\" data-ylk=\"cpos:2;cposy:7;bpos:1;pos:1;ss_cid:d0044dc1-7b7f-45dc-aebb-1a63819a2e06;refcnt:2;subsec:34;imgt:ss;g:e3f01b60-68a2-350e-b7b1-8af7cdb194c4;ct:1;pkgt:cluster_all_img;grpt:storyCluster;cnt_tpc:U.S.;rspns:nav;elm:btn;elmt:cta;itc:0;r:4000025359S00008;ccode:mega_sieve_offnet;\" href=\"https://www.yahoo.com/news/m/e3f01b60-68a2-350e-b7b1-8af7cdb194c4/ss_say-what-now%3F-teacher-busted.html\" target=\"_blank\">Learn More</a>,\n",
       " <a class=\"streamImage Pos(r) D(ib) js-stream-content-link W(100%) js-content-viewer rapid-noclick-resp rapidnofollow\" data-attrcat=\"celebrity\" data-rapid_p=\"9\" data-share-link=\"https://www.lovebscott.com/say-now-teacher-busted-affair-underage-student-found-shot-death-outside-mothers-home\" data-v9y=\"0\" data-ylk=\"cpos:2;cposy:7;bpos:1;pos:1;ss_cid:d0044dc1-7b7f-45dc-aebb-1a63819a2e06;refcnt:2;subsec:34;imgt:ss;g:e3f01b60-68a2-350e-b7b1-8af7cdb194c4;ct:1;pkgt:cluster_all_img;grpt:storyCluster;cnt_tpc:U.S.;elm:img;elmt:ct;r:4000025359S00008;ccode:mega_sieve_offnet;\" href=\"https://www.yahoo.com/news/m/e3f01b60-68a2-350e-b7b1-8af7cdb194c4/ss_say-what-now%3F-teacher-busted.html\" rel=\"nofollow\"><img alt=\"\" class=\"W(100%) H(a) BackgroundPic rounded-img\" height=\"193\" src=\"https://s.yimg.com/uu/api/res/1.2/YnoKuCK4SncmpDpIjt6NRA--~B/Zmk9c3RyaW07aD0zODY7cHlvZmY9MDtxPTgwO3c9NDQwO3NtPTE7YXBwaWQ9eXRhY2h5b24-/http://l.yimg.com/yp/offnetwork/4fc915c3095ae3104be4cb242e2f08e8\" width=\"220\"/>\\n</a>,\n",
       " <a class=\"O(n):f C($m_blue):f D(b) js-stream-content-link js-stream-item-title js-content-viewer rapid-noclick-resp rapidnofollow js-content-title C($link) C($m_blue):h Td(n) Fz(17px) Fw(b)\" data-attrcat=\"celebrity\" data-rapid_p=\"10\" data-share-link=\"https://www.lovebscott.com/say-now-teacher-busted-affair-underage-student-found-shot-death-outside-mothers-home\" data-v9y=\"0\" data-ylk=\"cpos:2;cposy:7;bpos:1;pos:1;ss_cid:d0044dc1-7b7f-45dc-aebb-1a63819a2e06;refcnt:2;subsec:34;imgt:ss;g:e3f01b60-68a2-350e-b7b1-8af7cdb194c4;ct:1;pkgt:cluster_all_img;grpt:storyCluster;cnt_tpc:U.S.;elm:hdln;elmt:ct;r:4000025359S00008;ccode:mega_sieve_offnet;\" href=\"https://www.yahoo.com/news/m/e3f01b60-68a2-350e-b7b1-8af7cdb194c4/ss_say-what-now%3F-teacher-busted.html\" rel=\"nofollow\"><span>Say What Now? Teacher Busted for Having an Affair with an Underage Student Found Shot to Death Outside Her Mother's Home</span><u class=\"Pos(a) T(0) Start(0) W(100%) H(100%) strm-stretch\"></u></a>,\n",
       " <a class=\"O(n):f C($m_blue):f Pos(r) Mih(70px) Mih(0)--md1160 Mb(6px)--md1160 Pstart(82px) Pstart(0)--md1160 Fl(start) W(50%) W(a)--md1160 strm-sl-link js-stream-content-link js-stream-item-title js-content-title js-sl js-content-viewer rapid-noclick-resp rapidnofollow C($link) C($m_blue):h Td(n) Fz(12px) Bxz(bb) Pend(13px)\" data-attrcat=\"celebrity\" data-rapid_p=\"11\" data-uuid=\"fcccf20e-65b9-3ef2-80ca-5511866f0d85\" data-v9y=\"0\" data-ylk=\"cpos:2;cposy:8;bpos:1;pos:2;ss_cid:d0044dc1-7b7f-45dc-aebb-1a63819a2e06;refcnt:2;subsec:34;imgt:ss;g:fcccf20e-65b9-3ef2-80ca-5511866f0d85;ct:1;pkgt:cluster_all_img;grpt:storyCluster;cnt_tpc:U.S.;elm:rhdln;elmt:ct;r:4000025359S00008;ccode:mega_sieve_offnet;t4:rel;\" href=\"https://www.yahoo.com/entertainment/penn-teacher-fatally-shot-her-211427165.html\" rel=\"nofollow\"><img alt=\"\" class=\"Maw(100%) H(a) Mend(12px) Va(t) Pos(a) Start(0) rounded-img D(n)--md1160\" height=\"70\" src=\"https://s.yimg.com/uu/api/res/1.2/bnsyrj54nqx_hTKqfm3Ohw--~B/Zmk9c3RyaW07aD0xNDA7cHlvZmY9MDtxPTkwO3c9MTQwO3NtPTE7YXBwaWQ9eXRhY2h5b24-/http://media.zenfs.com/en-us/video/video.people.time.com/1bce2c7af2519065cae9a1bdab905c7b\" width=\"70\"/><div class=\"D(ib) W(100%)\"><div class=\"Mend(7px) Lh(15px) LineClamp(3,45px) Fw(b) D(i)--md1160\">Penn. Teacher Is Fatally Shot in Her Mom's Driveway on Mother's Day</div><span class=\"Fz(11px) Td(n) C(gray_dark) Fw(n) D(b) Mt(2px) Whs(pl) Tt(c) D(i)--md1160\">People</span></div></a>,\n",
       " <a class=\"O(n):f C($m_blue):f Pos(r) Mih(70px) Mih(0)--md1160 Pstart(82px) Pstart(0)--md1160 Fl(start) W(50%) W(a)--md1160 strm-sl-link js-stream-content-link js-stream-item-title js-content-title js-sl js-content-viewer rapid-noclick-resp rapidnofollow C($link) C($m_blue):h Td(n) Fz(12px) Bxz(bb)\" data-attrcat=\"news\" data-rapid_p=\"12\" data-share-link=\"https://abcnews.go.com/US/https:/abcnews.go.com/US/video/teacher-shot-mothers-day-months-leaked-police-report-55185498\" data-uuid=\"943e2fa1-b58b-309a-b1df-0d0ffb6fe625\" data-v9y=\"0\" data-ylk=\"cpos:2;cposy:9;bpos:1;pos:3;ss_cid:d0044dc1-7b7f-45dc-aebb-1a63819a2e06;refcnt:2;subsec:34;imgt:ss;g:943e2fa1-b58b-309a-b1df-0d0ffb6fe625;ct:1;pkgt:cluster_all_img;grpt:storyCluster;cnt_tpc:U.S.;elm:rhdln;elmt:ct;r:4000025359S00008;ccode:mega_sieve_offnet;t4:rel;\" href=\"https://www.yahoo.com/news/m/943e2fa1-b58b-309a-b1df-0d0ffb6fe625/ss_video%3A-teacher-shot-on.html\" rel=\"nofollow\"><img alt=\"\" class=\"Maw(100%) H(a) Mend(12px) Va(t) Pos(a) Start(0) rounded-img D(n)--md1160\" height=\"70\" src=\"https://s.yimg.com/uu/api/res/1.2/2Qxfv2_1ekINnrRHqVUcEQ--~B/Zmk9c3RyaW07aD0xNDA7cHlvZmY9MDtxPTkwO3c9MTQwO3NtPTE7YXBwaWQ9eXRhY2h5b24-/http://l.yimg.com/yp/offnetwork/c7a1899affce325969fcf0661fb507a7\" width=\"70\"/><div class=\"D(ib) W(100%)\"><div class=\"Mend(7px) Lh(15px) LineClamp(3,45px) Fw(b) D(i)--md1160\">Video: Teacher shot on Mother's Day, months after leaked police report involving teenager</div><span class=\"Fz(11px) Td(n) C(gray_dark) Fw(n) D(b) Mt(2px) Whs(pl) Tt(c) D(i)--md1160\">ABC News</span></div></a>,\n",
       " <a class=\"Pos(r) js-stream-comments-button js-content-viewer rapid-noclick-resp rapidnofollow Td(n) O(n) C($c_icon) Px(14px) Pb(5px) Pt(25px)\" data-rapid_p=\"13\" data-v9y=\"1\" data-ylk=\"cpos:2;cposy:7;bpos:1;pos:1;ss_cid:d0044dc1-7b7f-45dc-aebb-1a63819a2e06;refcnt:2;subsec:34;imgt:ss;g:e3f01b60-68a2-350e-b7b1-8af7cdb194c4;ct:1;pkgt:cluster_all_img;grpt:storyCluster;cnt_tpc:U.S.;r:4000025359S00008;ccode:mega_sieve_offnet;t4:ctrl;elm:btn;slk:cmmt;itc:0;\" href=\"https://www.yahoo.com/news/m/e3f01b60-68a2-350e-b7b1-8af7cdb194c4/ss_say-what-now%3F-teacher-busted.html\" role=\"button\" tabindex=\"0\"><b aria-live=\"polite\" class=\"js-stream-comment-label ActionTooltip Pos(a) Whs(n) Bd($bdr) Bdc($bdr_darkgrey) Bdrs(3px) Bgc(#fff) Bxsh($menuShadow) Lh(14px) Py(7px) End(-25px) C($signin_blue) js-stream-comments-button&gt;Start(50%) js-stream-comments-button:h&gt;Start(a)\">Reactions</b><i class=\"Icon-Fp2 IconComments Fz(21px) \"></i></a>,\n",
       " <a class=\"D(ib) Ell Td(n) C(white) Bdc(white) Bds(s) Bdrs(2px) Bdw(t) Py(4px) Px(10px) Cur(p) Fz(12px) js-content-viewer rapid-noclick-resp rapidnofollow\" data-rapid_p=\"14\" data-v9y=\"1\" data-ylk=\"cpos:3;cposy:10;bpos:1;pos:1;ss_cid:f7f024cc-47a1-4551-b1a6-1ad357fc2a5a;refcnt:2;subsec:1744;imgt:ss;g:410da112-3fea-38ff-99e6-6df70cdbabca;ct:1;pkgt:cluster_all_img;grpt:storyCluster;cnt_tpc:Sports;rspns:nav;elm:btn;elmt:cta;itc:0;r:40000239794S00001;ccode:mega_sieve_offnet;\" href=\"https://www.yahoo.com/news/glovers-wife-arrested-domestic-violence-charges-201527425--spt.html\" target=\"_blank\">Learn More</a>,\n",
       " <a class=\"streamImage Pos(r) D(ib) js-stream-content-link W(100%) js-content-viewer rapid-noclick-resp rapidnofollow\" data-rapid_p=\"15\" data-v9y=\"0\" data-ylk=\"cpos:3;cposy:10;bpos:1;pos:1;ss_cid:f7f024cc-47a1-4551-b1a6-1ad357fc2a5a;refcnt:2;subsec:1744;imgt:ss;g:410da112-3fea-38ff-99e6-6df70cdbabca;ct:1;pkgt:cluster_all_img;grpt:storyCluster;cnt_tpc:Sports;elm:img;elmt:ct;r:40000239794S00001;ccode:mega_sieve_offnet;\" href=\"https://www.yahoo.com/news/glovers-wife-arrested-domestic-violence-charges-201527425--spt.html\"><img alt=\"\" class=\"W(100%) H(a) BackgroundPic rounded-img\" height=\"193\" src=\"https://s.yimg.com/uu/api/res/1.2/9xmhthc41WQ.dfh3QURCsA--~B/Zmk9c3RyaW07aD0zODY7cHlvZmY9MDtxPTgwO3c9NDQwO3NtPTE7YXBwaWQ9eXRhY2h5b24-/http://media.zenfs.com/en_us/News/ap_webfeeds/e15bf620aaea4ce99b6c7944e0afbdf2.jpg.cf.jpg\" width=\"220\"/>\\n</a>,\n",
       " <a class=\"O(n):f C($m_blue):f D(b) js-stream-content-link js-stream-item-title js-content-viewer rapid-noclick-resp rapidnofollow js-content-title C($link) C($m_blue):h Td(n) Fz(17px) Fw(b)\" data-rapid_p=\"16\" data-v9y=\"0\" data-ylk=\"cpos:3;cposy:10;bpos:1;pos:1;ss_cid:f7f024cc-47a1-4551-b1a6-1ad357fc2a5a;refcnt:2;subsec:1744;imgt:ss;g:410da112-3fea-38ff-99e6-6df70cdbabca;ct:1;pkgt:cluster_all_img;grpt:storyCluster;cnt_tpc:Sports;elm:hdln;elmt:ct;r:40000239794S00001;ccode:mega_sieve_offnet;\" href=\"https://www.yahoo.com/news/glovers-wife-arrested-domestic-violence-charges-201527425--spt.html\"><span>Glover's wife arrested on domestic violence charges</span><u class=\"Pos(a) T(0) Start(0) W(100%) H(100%) strm-stretch\"></u></a>,\n",
       " <a class=\"O(n):f C($m_blue):f Pos(r) Mih(70px) Mih(0)--md1160 Mb(6px)--md1160 Pstart(82px) Pstart(0)--md1160 Fl(start) W(50%) W(a)--md1160 strm-sl-link js-stream-content-link js-stream-item-title js-content-title js-sl js-content-viewer rapid-noclick-resp rapidnofollow C($link) C($m_blue):h Td(n) Fz(12px) Bxz(bb) Pend(13px)\" data-rapid_p=\"17\" data-uuid=\"6b9eaeab-1d1a-3069-a8f3-5a8ab715b916\" data-v9y=\"0\" data-ylk=\"cpos:3;cposy:11;bpos:1;pos:2;ss_cid:f7f024cc-47a1-4551-b1a6-1ad357fc2a5a;refcnt:2;subsec:1744;imgt:ss;g:6b9eaeab-1d1a-3069-a8f3-5a8ab715b916;ct:1;pkgt:cluster_all_img;grpt:storyCluster;cnt_tpc:Sports;elm:rhdln;elmt:ct;r:40000239794S00001;ccode:mega_sieve_offnet;t4:rel;\" href=\"https://www.yahoo.com/entertainment/golfer-lucas-glover-apos-wife-004737784.html\"><img alt=\"\" class=\"Maw(100%) H(a) Mend(12px) Va(t) Pos(a) Start(0) rounded-img D(n)--md1160\" height=\"70\" src=\"https://s.yimg.com/uu/api/res/1.2/vbbRfC4VR1VXJv5p2r_dTA--~B/Zmk9c3RyaW07aD0xNDA7cHlvZmY9MDtxPTkwO3c9MTQwO3NtPTE7YXBwaWQ9eXRhY2h5b24-/http://media.zenfs.com/en-US/homerun/people_218/a65d6a8d83672eb091ab9a9b4fa85b8d\" width=\"70\"/><div class=\"D(ib) W(100%)\"><div class=\"Mend(7px) Lh(15px) LineClamp(3,45px) Fw(b) D(i)--md1160\">Golfer Lucas Glover's Wife Allegedly Attacked Him &amp; His Mom After He Didn't Do Well In Tournament</div><span class=\"Fz(11px) Td(n) C(gray_dark) Fw(n) D(b) Mt(2px) Whs(pl) Tt(c) D(i)--md1160\">People</span></div></a>,\n",
       " <a class=\"O(n):f C($m_blue):f Pos(r) Mih(70px) Mih(0)--md1160 Pstart(82px) Pstart(0)--md1160 Fl(start) W(50%) W(a)--md1160 strm-sl-link js-stream-content-link js-stream-item-title js-content-title js-sl js-content-viewer rapid-noclick-resp rapidnofollow C($link) C($m_blue):h Td(n) Fz(12px) Bxz(bb)\" data-rapid_p=\"18\" data-uuid=\"4c2e9ba2-7fe3-36b2-ba34-ea96aa76eb5b\" data-v9y=\"0\" data-ylk=\"cpos:3;cposy:12;bpos:1;pos:3;ss_cid:f7f024cc-47a1-4551-b1a6-1ad357fc2a5a;refcnt:2;subsec:1744;imgt:ss;g:4c2e9ba2-7fe3-36b2-ba34-ea96aa76eb5b;ct:1;pkgt:cluster_all_img;grpt:storyCluster;cnt_tpc:Sports;elm:rhdln;elmt:ct;r:40000239794S00001;ccode:mega_sieve_offnet;t4:rel;\" href=\"https://www.yahoo.com/news/wife-former-us-open-champ-211113208.html\"><img alt=\"\" class=\"Maw(100%) H(a) Mend(12px) Va(t) Pos(a) Start(0) rounded-img D(n)--md1160\" height=\"70\" src=\"https://s.yimg.com/uu/api/res/1.2/KiD4bxZoXcZ2_UqKGLgWfw--~B/Zmk9c3RyaW07aD0xNDA7cHlvZmY9MDtxPTkwO3c9MTQwO3NtPTE7YXBwaWQ9eXRhY2h5b24-/http://media.zenfs.com/en-US/video/video.krtk.abc.news.com/88681ccacfa76d7969f7170dbf452b13\" width=\"70\"/><div class=\"D(ib) W(100%)\"><div class=\"Mend(7px) Lh(15px) LineClamp(3,45px) Fw(b) D(i)--md1160\">Wife of former US Open champ Lucas Glover accused of hitting husband and his mother after he misses cut</div><span class=\"Fz(11px) Td(n) C(gray_dark) Fw(n) D(b) Mt(2px) Whs(pl) Tt(c) D(i)--md1160\">KTRK \\u2013 Houston</span></div></a>,\n",
       " <a class=\"Pos(r) js-stream-comments-button js-content-viewer rapid-noclick-resp rapidnofollow Td(n) O(n) C($c_icon) Px(14px) Pb(5px) Pt(25px)\" data-rapid_p=\"19\" data-v9y=\"0\" data-ylk=\"cpos:3;cposy:10;bpos:1;pos:1;ss_cid:f7f024cc-47a1-4551-b1a6-1ad357fc2a5a;refcnt:2;subsec:1744;imgt:ss;g:410da112-3fea-38ff-99e6-6df70cdbabca;ct:1;pkgt:cluster_all_img;grpt:storyCluster;cnt_tpc:Sports;r:40000239794S00001;ccode:mega_sieve_offnet;t4:ctrl;elm:btn;slk:cmmt;itc:0;\" href=\"https://www.yahoo.com/news/glovers-wife-arrested-domestic-violence-charges-201527425--spt.html\" role=\"button\" tabindex=\"0\"><b aria-live=\"polite\" class=\"js-stream-comment-label ActionTooltip Pos(a) Whs(n) Bd($bdr) Bdc($bdr_darkgrey) Bdrs(3px) Bgc(#fff) Bxsh($menuShadow) Lh(14px) Py(7px) End(-25px) C($signin_blue) js-stream-comments-button&gt;Start(50%) js-stream-comments-button:h&gt;Start(a)\">Reactions</b><i class=\"Icon-Fp2 IconComments Fz(21px) \"></i></a>,\n",
       " <a class=\"D(ib) Ell Td(n) C(white) Bdc(white) Bds(s) Bdrs(2px) Bdw(t) Py(4px) Px(10px) Cur(p) Fz(12px) js-content-viewer rapid-noclick-resp rapidnofollow\" data-rapid_p=\"20\" data-v9y=\"1\" data-ylk=\"cpos:4;cposy:13;bpos:1;pos:1;ss_cid:41c220a3-230b-4369-bcd6-c894332ffe5e;refcnt:2;subsec:3093;imgt:ss;g:5eb5b606-7585-37fb-a288-f883099f70f6;ct:1;pkgt:cluster_all_img;grpt:storyCluster;cnt_tpc:Politics;rspns:nav;elm:btn;elmt:cta;itc:0;r:40000206356S00001;ccode:mega_sieve_offnet;\" href=\"https://www.yahoo.com/news/anderson-cooper-claims-trump-apos-164209336.html\" target=\"_blank\">Learn More</a>,\n",
       " <a class=\"streamImage Pos(r) D(ib) js-stream-content-link W(100%) js-content-viewer rapid-noclick-resp rapidnofollow\" data-rapid_p=\"21\" data-v9y=\"0\" data-ylk=\"cpos:4;cposy:13;bpos:1;pos:1;ss_cid:41c220a3-230b-4369-bcd6-c894332ffe5e;refcnt:2;subsec:3093;imgt:ss;g:5eb5b606-7585-37fb-a288-f883099f70f6;ct:1;pkgt:cluster_all_img;grpt:storyCluster;cnt_tpc:Politics;elm:img;elmt:ct;r:40000206356S00001;ccode:mega_sieve_offnet;\" href=\"https://www.yahoo.com/news/anderson-cooper-claims-trump-apos-164209336.html\"><img alt=\"\" class=\"W(100%) H(a) BackgroundPic rounded-img\" height=\"193\" src=\"https://s.yimg.com/uu/api/res/1.2/.KMIf8VGj8yfSD2FzrNJew--~B/Zmk9c3RyaW07aD0zODY7cHlvZmY9MDtxPTgwO3c9NDQwO3NtPTE7YXBwaWQ9eXRhY2h5b24-/http://media.zenfs.com/en-GB/homerun/newsweek_europe_news_328/9740d049da9bbc5be04155514538238f\" width=\"220\"/>\\n</a>,\n",
       " <a class=\"O(n):f C($m_blue):f D(b) js-stream-content-link js-stream-item-title js-content-viewer rapid-noclick-resp rapidnofollow js-content-title C($link) C($m_blue):h Td(n) Fz(17px) Fw(b)\" data-rapid_p=\"22\" data-v9y=\"0\" data-ylk=\"cpos:4;cposy:13;bpos:1;pos:1;ss_cid:41c220a3-230b-4369-bcd6-c894332ffe5e;refcnt:2;subsec:3093;imgt:ss;g:5eb5b606-7585-37fb-a288-f883099f70f6;ct:1;pkgt:cluster_all_img;grpt:storyCluster;cnt_tpc:Politics;elm:hdln;elmt:ct;r:40000206356S00001;ccode:mega_sieve_offnet;\" href=\"https://www.yahoo.com/news/anderson-cooper-claims-trump-apos-164209336.html\"><span>Anderson Cooper Claims Trump's White House Has Been Instructed Not to Issue Apologies</span><u class=\"Pos(a) T(0) Start(0) W(100%) H(100%) strm-stretch\"></u></a>,\n",
       " <a class=\"O(n):f C($m_blue):f Pos(r) Mih(70px) Mih(0)--md1160 Mb(6px)--md1160 Pstart(82px) Pstart(0)--md1160 Fl(start) W(50%) W(a)--md1160 strm-sl-link js-stream-content-link js-stream-item-title js-content-title js-sl js-content-viewer rapid-noclick-resp rapidnofollow C($link) C($m_blue):h Td(n) Fz(12px) Bxz(bb) Pend(13px)\" data-attrcat=\"news\" data-rapid_p=\"23\" data-share-link=\"https://www.cheatsheet.com/health-fitness/meghan-mccain-is-taking-on-anyone-who-attacks-john-mccains-health.html/?ref=YF&amp;yptr=yahoo\" data-uuid=\"2dbb4971-0020-39ad-a92f-7cdb46c71b34\" data-v9y=\"0\" data-ylk=\"cpos:4;cposy:14;bpos:1;pos:2;ss_cid:41c220a3-230b-4369-bcd6-c894332ffe5e;refcnt:2;subsec:3093;imgt:ss;g:2dbb4971-0020-39ad-a92f-7cdb46c71b34;ct:1;pkgt:cluster_all_img;grpt:storyCluster;cnt_tpc:Politics;elm:rhdln;elmt:ct;r:40000206356S00001;ccode:mega_sieve_offnet;t4:rel;\" href=\"https://www.yahoo.com/news/m/2dbb4971-0020-39ad-a92f-7cdb46c71b34/meghan-mccain-is-taking-on.html\"><img alt=\"\" class=\"Maw(100%) H(a) Mend(12px) Va(t) Pos(a) Start(0) rounded-img D(n)--md1160\" height=\"70\" src=\"https://s.yimg.com/uu/api/res/1.2/sD_5i1Cn8JcekwJn1kewZQ--~B/Zmk9c3RyaW07aD0xNDA7cHlvZmY9MDtxPTkwO3c9MTQwO3NtPTE7YXBwaWQ9eXRhY2h5b24-/http://media.zenfs.com/en-US/homerun/wscs.com/fd5a3cd995a0a33a394e5a04ab4b6121\" width=\"70\"/><div class=\"D(ib) W(100%)\"><div class=\"Mend(7px) Lh(15px) LineClamp(3,45px) Fw(b) D(i)--md1160\">Meghan McCain Is Taking on Anyone Who Attacks John McCain\\u2019s Health, and These Comments Prove It</div><span class=\"Fz(11px) Td(n) C(gray_dark) Fw(n) D(b) Mt(2px) Whs(pl) Tt(c) D(i)--md1160\">The Cheat Sheet</span></div></a>,\n",
       " <a class=\"O(n):f C($m_blue):f Pos(r) Mih(70px) Mih(0)--md1160 Pstart(82px) Pstart(0)--md1160 Fl(start) W(50%) W(a)--md1160 strm-sl-link js-stream-content-link js-stream-item-title js-content-title js-sl js-content-viewer rapid-noclick-resp rapidnofollow C($link) C($m_blue):h Td(n) Fz(12px) Bxz(bb)\" data-attrcat=\"news\" data-rapid_p=\"24\" data-share-link=\"http://thehill.com/blogs/in-the-know/in-the-know/387576-nanjiani-waves-white-flag-in-twitter-spat-with-mccains-daughter\" data-uuid=\"97048ddb-a008-3db7-a792-525280894271\" data-v9y=\"0\" data-ylk=\"cpos:4;cposy:15;bpos:1;pos:3;ss_cid:41c220a3-230b-4369-bcd6-c894332ffe5e;refcnt:2;subsec:3093;imgt:ss;g:97048ddb-a008-3db7-a792-525280894271;ct:1;pkgt:cluster_all_img;grpt:storyCluster;cnt_tpc:Politics;elm:rhdln;elmt:ct;r:40000206356S00001;ccode:mega_sieve_offnet;t4:rel;\" href=\"https://www.yahoo.com/news/m/97048ddb-a008-3db7-a792-525280894271/ss_nanjiani-waves-white-flag-in.html\"><img alt=\"\" class=\"Maw(100%) H(a) Mend(12px) Va(t) Pos(a) Start(0) rounded-img D(n)--md1160\" height=\"70\" src=\"https://s.yimg.com/uu/api/res/1.2/j1uJYVqb6oAe0YdRUvDIRg--~B/Zmk9c3RyaW07aD0xNDA7cHlvZmY9MDtxPTkwO3c9MTQwO3NtPTE7YXBwaWQ9eXRhY2h5b24-/http://l.yimg.com/yp/offnetwork/5c034e7cb5cfe350fdb8a72adeee92f9\" width=\"70\"/><div class=\"D(ib) W(100%)\"><div class=\"Mend(7px) Lh(15px) LineClamp(3,45px) Fw(b) D(i)--md1160\">Nanjiani waves white flag in Twitter spat with McCain's daughter</div><span class=\"Fz(11px) Td(n) C(gray_dark) Fw(n) D(b) Mt(2px) Whs(pl) Tt(c) D(i)--md1160\">The Hill</span></div></a>,\n",
       " <a class=\"Pos(r) js-stream-comments-button js-content-viewer rapid-noclick-resp rapidnofollow Td(n) O(n) C($c_icon) Px(14px) Pb(5px) Pt(25px)\" data-rapid_p=\"25\" data-v9y=\"0\" data-ylk=\"cpos:4;cposy:13;bpos:1;pos:1;ss_cid:41c220a3-230b-4369-bcd6-c894332ffe5e;refcnt:2;subsec:3093;imgt:ss;g:5eb5b606-7585-37fb-a288-f883099f70f6;ct:1;pkgt:cluster_all_img;grpt:storyCluster;cnt_tpc:Politics;r:40000206356S00001;ccode:mega_sieve_offnet;t4:ctrl;elm:btn;slk:cmmt;itc:0;\" href=\"https://www.yahoo.com/news/anderson-cooper-claims-trump-apos-164209336.html\" role=\"button\" tabindex=\"0\"><b aria-live=\"polite\" class=\"js-stream-comment-label ActionTooltip Pos(a) Whs(n) Bd($bdr) Bdc($bdr_darkgrey) Bdrs(3px) Bgc(#fff) Bxsh($menuShadow) Lh(14px) Py(7px) End(-25px) C($signin_blue) js-stream-comments-button&gt;Start(50%) js-stream-comments-button:h&gt;Start(a)\">Reactions</b><i class=\"Icon-Fp2 IconComments Fz(21px) \"></i></a>,\n",
       " <a class=\"D(ib) Ell Td(n) C(white) Bdc(white) Bds(s) Bdrs(2px) Bdw(t) Py(4px) Px(10px) Cur(p) Fz(12px) js-content-viewer rapid-noclick-resp rapidnofollow\" data-rapid_p=\"26\" data-v9y=\"1\" data-ylk=\"cpos:5;cposy:16;bpos:1;pos:1;ss_cid:e7574f12-1386-4aca-8e76-ea32d1a75a70;refcnt:2;subsec:235;imgt:ss;g:414077e1-0c4d-35cc-a4c7-bf8b9f00863e;ct:1;pkgt:cluster_all_img;grpt:storyCluster;cnt_tpc:Business;rspns:nav;elm:btn;elmt:cta;itc:0;r:40000212844S00001;ccode:mega_sieve_offnet;\" href=\"https://www.yahoo.com/entertainment/nas-apos-financial-records-reveal-213207004.html\" target=\"_blank\">Learn More</a>,\n",
       " <a class=\"streamImage Pos(r) D(ib) js-stream-content-link W(100%) js-content-viewer rapid-noclick-resp rapidnofollow\" data-rapid_p=\"27\" data-v9y=\"0\" data-ylk=\"cpos:5;cposy:16;bpos:1;pos:1;ss_cid:e7574f12-1386-4aca-8e76-ea32d1a75a70;refcnt:2;subsec:235;imgt:ss;g:414077e1-0c4d-35cc-a4c7-bf8b9f00863e;ct:1;pkgt:cluster_all_img;grpt:storyCluster;cnt_tpc:Business;elm:img;elmt:ct;r:40000212844S00001;ccode:mega_sieve_offnet;\" href=\"https://www.yahoo.com/entertainment/nas-apos-financial-records-reveal-213207004.html\"><img alt=\"\" class=\"W(100%) H(a) BackgroundPic rounded-img\" height=\"193\" src=\"https://s.yimg.com/uu/api/res/1.2/uJPUoXF3YjGSueWHwU3kFg--~B/Zmk9c3RyaW07aD0zODY7cHlvZmY9MDtxPTgwO3c9NDQwO3NtPTE7YXBwaWQ9eXRhY2h5b24-/http://media.zenfs.com/en-US/homerun/complex_music_120/8a764e7dc6b99a9424e08df57230786d\" width=\"220\"/>\\n</a>,\n",
       " <a class=\"O(n):f C($m_blue):f D(b) js-stream-content-link js-stream-item-title js-content-viewer rapid-noclick-resp rapidnofollow js-content-title C($link) C($m_blue):h Td(n) Fz(17px) Fw(b)\" data-rapid_p=\"28\" data-v9y=\"0\" data-ylk=\"cpos:5;cposy:16;bpos:1;pos:1;ss_cid:e7574f12-1386-4aca-8e76-ea32d1a75a70;refcnt:2;subsec:235;imgt:ss;g:414077e1-0c4d-35cc-a4c7-bf8b9f00863e;ct:1;pkgt:cluster_all_img;grpt:storyCluster;cnt_tpc:Business;elm:hdln;elmt:ct;r:40000212844S00001;ccode:mega_sieve_offnet;\" href=\"https://www.yahoo.com/entertainment/nas-apos-financial-records-reveal-213207004.html\"><span>Nas' Financial Records Reveal How Much He Makes a Month Amid Child Support Battle With Kelis</span><u class=\"Pos(a) T(0) Start(0) W(100%) H(100%) strm-stretch\"></u></a>,\n",
       " <a class=\"O(n):f C($m_blue):f Pos(r) Mih(70px) Mih(0)--md1160 Mb(6px)--md1160 Pstart(82px) Pstart(0)--md1160 Fl(start) W(50%) W(a)--md1160 strm-sl-link js-stream-content-link js-stream-item-title js-content-title js-sl js-content-viewer rapid-noclick-resp rapidnofollow C($link) C($m_blue):h Td(n) Fz(12px) Bxz(bb) Pend(13px)\" data-attrcat=\"celebrity\" data-rapid_p=\"29\" data-share-link=\"https://www.lovebscott.com/nas-discloses-financial-activity-kelis-child-support-battle\" data-uuid=\"3d47bde5-5d44-3ca4-940e-2edf25803ae4\" data-v9y=\"0\" data-ylk=\"cpos:5;cposy:17;bpos:1;pos:2;ss_cid:e7574f12-1386-4aca-8e76-ea32d1a75a70;refcnt:2;subsec:235;imgt:ss;g:3d47bde5-5d44-3ca4-940e-2edf25803ae4;ct:1;pkgt:cluster_all_img;grpt:storyCluster;cnt_tpc:Business;elm:rhdln;elmt:ct;r:40000212844S00001;ccode:mega_sieve_offnet;t4:rel;\" href=\"https://www.yahoo.com/finance/m/3d47bde5-5d44-3ca4-940e-2edf25803ae4/ss_nas-discloses-his-financial.html\"><img alt=\"\" class=\"Maw(100%) H(a) Mend(12px) Va(t) Pos(a) Start(0) rounded-img D(n)--md1160\" height=\"70\" src=\"https://s.yimg.com/uu/api/res/1.2/9_AeSDQml4EZAX6Pe7tcMA--~B/Zmk9c3RyaW07aD0xNDA7cHlvZmY9MDtxPTkwO3c9MTQwO3NtPTE7YXBwaWQ9eXRhY2h5b24-/http://l.yimg.com/yp/offnetwork/1ec8ff183b79fde5689e4977bc7a8849\" width=\"70\"/><div class=\"D(ib) W(100%)\"><div class=\"Mend(7px) Lh(15px) LineClamp(3,45px) Fw(b) D(i)--md1160\">Nas Discloses His Financial Activity in Kelis Child Support Battle</div><span class=\"Fz(11px) Td(n) C(gray_dark) Fw(n) D(b) Mt(2px) Whs(pl) Tt(c) D(i)--md1160\">lovebscott - celebrity gossip and entertainment news</span></div></a>,\n",
       " <a class=\"O(n):f C($m_blue):f Pos(r) Mih(70px) Mih(0)--md1160 Pstart(82px) Pstart(0)--md1160 Fl(start) W(50%) W(a)--md1160 strm-sl-link js-stream-content-link js-stream-item-title js-content-title js-sl js-content-viewer rapid-noclick-resp rapidnofollow C($link) C($m_blue):h Td(n) Fz(12px) Bxz(bb)\" data-attrcat=\"news\" data-rapid_p=\"30\" data-share-link=\"https://www.hotnewhiphop.com/nas-financial-records-revealed-amid-kelis-child-support-feud-news.50115.html\" data-uuid=\"bc94371b-9f94-3bd4-b04f-78827cd8dde3\" data-v9y=\"0\" data-ylk=\"cpos:5;cposy:18;bpos:1;pos:3;ss_cid:e7574f12-1386-4aca-8e76-ea32d1a75a70;refcnt:2;subsec:235;imgt:ss;g:bc94371b-9f94-3bd4-b04f-78827cd8dde3;ct:1;pkgt:cluster_all_img;grpt:storyCluster;cnt_tpc:Business;elm:rhdln;elmt:ct;r:40000212844S00001;ccode:mega_sieve_offnet;t4:rel;\" href=\"https://www.yahoo.com/finance/m/bc94371b-9f94-3bd4-b04f-78827cd8dde3/ss_nas%27-financial-records.html\"><img alt=\"\" class=\"Maw(100%) H(a) Mend(12px) Va(t) Pos(a) Start(0) rounded-img D(n)--md1160\" height=\"70\" src=\"https://s.yimg.com/uu/api/res/1.2/1prnkPYMJ3HqjtePKUCFKA--~B/Zmk9c3RyaW07aD0xNDA7cHlvZmY9MDtxPTkwO3c9MTQwO3NtPTE7YXBwaWQ9eXRhY2h5b24-/http://l.yimg.com/yp/offnetwork/42f6812b182739b0d152fb308b0c95a3\" width=\"70\"/><div class=\"D(ib) W(100%)\"><div class=\"Mend(7px) Lh(15px) LineClamp(3,45px) Fw(b) D(i)--md1160\">Nas' Financial Records Revealed Amid Kelis Child Support Feud</div><span class=\"Fz(11px) Td(n) C(gray_dark) Fw(n) D(b) Mt(2px) Whs(pl) Tt(c) D(i)--md1160\">HotNewHipHop</span></div></a>,\n",
       " <a class=\"Pos(r) js-stream-comments-button js-content-viewer rapid-noclick-resp rapidnofollow Td(n) O(n) C($c_icon) Px(14px) Pb(5px) Pt(25px)\" data-rapid_p=\"31\" data-v9y=\"0\" data-ylk=\"cpos:5;cposy:16;bpos:1;pos:1;ss_cid:e7574f12-1386-4aca-8e76-ea32d1a75a70;refcnt:2;subsec:235;imgt:ss;g:414077e1-0c4d-35cc-a4c7-bf8b9f00863e;ct:1;pkgt:cluster_all_img;grpt:storyCluster;cnt_tpc:Business;r:40000212844S00001;ccode:mega_sieve_offnet;t4:ctrl;elm:btn;slk:cmmt;itc:0;\" href=\"https://www.yahoo.com/entertainment/nas-apos-financial-records-reveal-213207004.html\" role=\"button\" tabindex=\"0\"><b aria-live=\"polite\" class=\"js-stream-comment-label ActionTooltip Pos(a) Whs(n) Bd($bdr) Bdc($bdr_darkgrey) Bdrs(3px) Bgc(#fff) Bxsh($menuShadow) Lh(14px) Py(7px) End(-25px) C($signin_blue) js-stream-comments-button&gt;Start(50%) js-stream-comments-button:h&gt;Start(a)\">Reactions</b><i class=\"Icon-Fp2 IconComments Fz(21px) \"></i></a>,\n",
       " <a class=\"D(ib) Ell Td(n) C(white) Bdc(white) Bds(s) Bdrs(2px) Bdw(t) Py(4px) Px(10px) Cur(p) Fz(12px) js-content-viewer rapid-noclick-resp rapidnofollow\" data-rapid_p=\"32\" data-v9y=\"1\" data-ylk=\"cpos:6;cposy:19;bpos:1;pos:1;ss_cid:f6a9a6d9-2334-4b97-ad1a-3b04846e1776;refcnt:2;subsec:122;imgt:ss;g:277aa2e5-dbd2-3ff8-9c73-3addd5903e6a;ct:1;pkgt:cluster_all_img;grpt:storyCluster;cnt_tpc:Business;rspns:nav;elm:btn;elmt:cta;itc:0;r:40000151234S00001;ccode:mega_sieve_offnet;\" href=\"https://www.yahoo.com/news/tomi-lahren-hits-back-genealogist-165747427.html\" target=\"_blank\">Learn More</a>,\n",
       " <a class=\"streamImage Pos(r) D(ib) js-stream-content-link W(100%) js-content-viewer rapid-noclick-resp rapidnofollow\" data-rapid_p=\"33\" data-v9y=\"0\" data-ylk=\"cpos:6;cposy:19;bpos:1;pos:1;ss_cid:f6a9a6d9-2334-4b97-ad1a-3b04846e1776;refcnt:2;subsec:122;imgt:ss;g:277aa2e5-dbd2-3ff8-9c73-3addd5903e6a;ct:1;pkgt:cluster_all_img;grpt:storyCluster;cnt_tpc:Business;elm:img;elmt:ct;r:40000151234S00001;ccode:mega_sieve_offnet;\" href=\"https://www.yahoo.com/news/tomi-lahren-hits-back-genealogist-165747427.html\"><img alt=\"\" class=\"W(100%) H(a) BackgroundPic rounded-img\" height=\"193\" src=\"https://s.yimg.com/uu/api/res/1.2/7zBAiW_9ICOGUGCzIxnjLw--~B/Zmk9c3RyaW07aD0zODY7cHlvZmY9MDtxPTgwO3c9NDQwO3NtPTE7YXBwaWQ9eXRhY2h5b24-/http://media.zenfs.com/en-US/homerun/the_huffington_post_584/79f9e58f0718121e9b42308ce2607023\" width=\"220\"/>\\n</a>,\n",
       " <a class=\"O(n):f C($m_blue):f D(b) js-stream-content-link js-stream-item-title js-content-viewer rapid-noclick-resp rapidnofollow js-content-title C($link) C($m_blue):h Td(n) Fz(17px) Fw(b)\" data-rapid_p=\"34\" data-v9y=\"0\" data-ylk=\"cpos:6;cposy:19;bpos:1;pos:1;ss_cid:f6a9a6d9-2334-4b97-ad1a-3b04846e1776;refcnt:2;subsec:122;imgt:ss;g:277aa2e5-dbd2-3ff8-9c73-3addd5903e6a;ct:1;pkgt:cluster_all_img;grpt:storyCluster;cnt_tpc:Business;elm:hdln;elmt:ct;r:40000151234S00001;ccode:mega_sieve_offnet;\" href=\"https://www.yahoo.com/news/tomi-lahren-hits-back-genealogist-165747427.html\"><span>Tomi Lahren Hits Back At Genealogist Who Researched Her Family, Misses The Point</span><u class=\"Pos(a) T(0) Start(0) W(100%) H(100%) strm-stretch\"></u></a>,\n",
       " <a class=\"O(n):f C($m_blue):f Pos(r) Mih(70px) Mih(0)--md1160 Mb(6px)--md1160 Pstart(82px) Pstart(0)--md1160 Fl(start) W(50%) W(a)--md1160 strm-sl-link js-stream-content-link js-stream-item-title js-content-title js-sl js-content-viewer rapid-noclick-resp rapidnofollow C($link) C($m_blue):h Td(n) Fz(12px) Bxz(bb) Pend(13px)\" data-rapid_p=\"35\" data-uuid=\"e91a6ba9-0dbb-3e6e-b46a-15c3b1d17fc6\" data-v9y=\"0\" data-ylk=\"cpos:6;cposy:20;bpos:1;pos:2;ss_cid:f6a9a6d9-2334-4b97-ad1a-3b04846e1776;refcnt:2;subsec:122;imgt:ss;g:e91a6ba9-0dbb-3e6e-b46a-15c3b1d17fc6;ct:1;pkgt:cluster_all_img;grpt:storyCluster;cnt_tpc:Business;elm:rhdln;elmt:ct;r:40000151234S00001;ccode:mega_sieve_offnet;t4:rel;\" href=\"https://www.yahoo.com/entertainment/tomi-lahren-attacks-u-immigrants-153708864.html\"><img alt=\"\" class=\"Maw(100%) H(a) Mend(12px) Va(t) Pos(a) Start(0) rounded-img D(n)--md1160\" height=\"70\" src=\"https://s.yimg.com/uu/api/res/1.2/jHlom4WE_83Wp8IJ1Z_KwA--~B/Zmk9c3RyaW07aD0xNDA7cHlvZmY9MDtxPTkwO3c9MTQwO3NtPTE7YXBwaWQ9eXRhY2h5b24-/http://media.zenfs.com/en-US/homerun/people_218/fb6a674ac23a3a058018fb3f8cc4edd7\" width=\"70\"/><div class=\"D(ib) W(100%)\"><div class=\"Mend(7px) Lh(15px) LineClamp(3,45px) Fw(b) D(i)--md1160\">Tomi Lahren Attacks U.S. Immigrants, Gets Burned by Eye-Opening Lesson on Her Own Family Tree</div><span class=\"Fz(11px) Td(n) C(gray_dark) Fw(n) D(b) Mt(2px) Whs(pl) Tt(c) D(i)--md1160\">People</span></div></a>,\n",
       " <a class=\"O(n):f C($m_blue):f Pos(r) Mih(70px) Mih(0)--md1160 Pstart(82px) Pstart(0)--md1160 Fl(start) W(50%) W(a)--md1160 strm-sl-link js-stream-content-link js-stream-item-title js-content-title js-sl js-content-viewer rapid-noclick-resp rapidnofollow C($link) C($m_blue):h Td(n) Fz(12px) Bxz(bb)\" data-attrcat=\"news\" data-rapid_p=\"36\" data-share-link=\"https://www.salon.com/2018/05/15/fox-friends-holds-pity-party-tomi-lahren-mean-genealogist-exposes-racist-hypocrisy_partner/\" data-uuid=\"58db1116-3dc6-3233-b206-15caa7599f4d\" data-v9y=\"0\" data-ylk=\"cpos:6;cposy:21;bpos:1;pos:3;ss_cid:f6a9a6d9-2334-4b97-ad1a-3b04846e1776;refcnt:2;subsec:122;imgt:ss;g:58db1116-3dc6-3233-b206-15caa7599f4d;ct:1;pkgt:cluster_all_img;grpt:storyCluster;cnt_tpc:Business;elm:rhdln;elmt:ct;r:40000151234S00001;ccode:mega_sieve_offnet;t4:rel;\" href=\"https://www.yahoo.com/finance/m/58db1116-3dc6-3233-b206-15caa7599f4d/ss_tomi-lahren-lashes-out-after.html\"><img alt=\"\" class=\"Maw(100%) H(a) Mend(12px) Va(t) Pos(a) Start(0) rounded-img D(n)--md1160\" height=\"70\" src=\"https://s.yimg.com/uu/api/res/1.2/pdP97MZsCOKyPDXQQa9RKg--~B/Zmk9c3RyaW07aD0xNDA7cHlvZmY9MDtxPTkwO3c9MTQwO3NtPTE7YXBwaWQ9eXRhY2h5b24-/http://l.yimg.com/yp/offnetwork/f398929e45e75df67e354b94f7aa6c87\" width=\"70\"/><div class=\"D(ib) W(100%)\"><div class=\"Mend(7px) Lh(15px) LineClamp(3,45px) Fw(b) D(i)--md1160\">Tomi Lahren lashes out after \\u201cmean\\u201d genealogist exposes her racist hypocrisy</div><span class=\"Fz(11px) Td(n) C(gray_dark) Fw(n) D(b) Mt(2px) Whs(pl) Tt(c) D(i)--md1160\">Salon.com</span></div></a>,\n",
       " <a class=\"Pos(r) js-stream-comments-button js-content-viewer rapid-noclick-resp rapidnofollow Td(n) O(n) C($c_icon) Px(14px) Pb(5px) Pt(25px)\" data-rapid_p=\"37\" data-v9y=\"0\" data-ylk=\"cpos:6;cposy:19;bpos:1;pos:1;ss_cid:f6a9a6d9-2334-4b97-ad1a-3b04846e1776;refcnt:2;subsec:122;imgt:ss;g:277aa2e5-dbd2-3ff8-9c73-3addd5903e6a;ct:1;pkgt:cluster_all_img;grpt:storyCluster;cnt_tpc:Business;r:40000151234S00001;ccode:mega_sieve_offnet;t4:ctrl;elm:btn;slk:cmmt;itc:0;\" href=\"https://www.yahoo.com/news/tomi-lahren-hits-back-genealogist-165747427.html\" role=\"button\" tabindex=\"0\"><b aria-live=\"polite\" class=\"js-stream-comment-label ActionTooltip Pos(a) Whs(n) Bd($bdr) Bdc($bdr_darkgrey) Bdrs(3px) Bgc(#fff) Bxsh($menuShadow) Lh(14px) Py(7px) End(-25px) C($signin_blue) js-stream-comments-button&gt;Start(50%) js-stream-comments-button:h&gt;Start(a)\">Reactions</b><i class=\"Icon-Fp2 IconComments Fz(21px) \"></i></a>,\n",
       " <a class=\"D(ib) Ell Td(n) C(white) Bdc(white) Bds(s) Bdrs(2px) Bdw(t) Py(4px) Px(10px) Cur(p) Fz(12px) js-content-viewer rapid-noclick-resp rapidnofollow\" data-rapid_p=\"38\" data-v9y=\"1\" data-ylk=\"cpos:7;cposy:22;bpos:1;pos:1;ss_cid:e498d03a-c51b-40cf-ba3f-94e210759a89;refcnt:2;subsec:993;imgt:ss;g:c564230e-bc8b-3735-bcbd-732d64344178;ct:1;pkgt:cluster_all_img;grpt:storyCluster;cnt_tpc:Politics;rspns:nav;elm:btn;elmt:cta;itc:0;r:4000089007S00001;ccode:mega_sieve_offnet;\" href=\"https://www.yahoo.com/entertainment/pence-makes-moves-gop-aren-061521032.html\" target=\"_blank\">Learn More</a>,\n",
       " <a class=\"streamImage Pos(r) D(ib) js-stream-content-link W(100%) js-content-viewer rapid-noclick-resp rapidnofollow\" data-rapid_p=\"39\" data-v9y=\"0\" data-ylk=\"cpos:7;cposy:22;bpos:1;pos:1;ss_cid:e498d03a-c51b-40cf-ba3f-94e210759a89;refcnt:2;subsec:993;imgt:ss;g:c564230e-bc8b-3735-bcbd-732d64344178;ct:1;pkgt:cluster_all_img;grpt:storyCluster;cnt_tpc:Politics;elm:img;elmt:ct;r:4000089007S00001;ccode:mega_sieve_offnet;\" href=\"https://www.yahoo.com/entertainment/pence-makes-moves-gop-aren-061521032.html\"><img alt=\"\" class=\"W(100%) H(a) BackgroundPic rounded-img ImageLoader\" height=\"193\" src=\"https://s.yimg.com/os/mit/ape/m/81f43c2/t.gif\" style=\"background-image:url('https://s.yimg.com/uu/api/res/1.2/wqK7dfAa.aWK3jDVjK.pEA--~B/Zmk9c3RyaW07aD0xOTM7cHlvZmY9MDtxPTk1O3c9MjIwO3NtPTE7YXBwaWQ9eXRhY2h5b24-/http://media.zenfs.com/es-US/homerun/yahoo_view_839/6aac45f0d343bc04cce89165127d6043')\" width=\"220\"/>\\n</a>,\n",
       " <a class=\"O(n):f C($m_blue):f D(b) js-stream-content-link js-stream-item-title js-content-viewer rapid-noclick-resp rapidnofollow js-content-title C($link) C($m_blue):h Td(n) Fz(17px) Fw(b)\" data-rapid_p=\"40\" data-v9y=\"0\" data-ylk=\"cpos:7;cposy:22;bpos:1;pos:1;ss_cid:e498d03a-c51b-40cf-ba3f-94e210759a89;refcnt:2;subsec:993;imgt:ss;g:c564230e-bc8b-3735-bcbd-732d64344178;ct:1;pkgt:cluster_all_img;grpt:storyCluster;cnt_tpc:Politics;elm:hdln;elmt:ct;r:4000089007S00001;ccode:mega_sieve_offnet;\" href=\"https://www.yahoo.com/entertainment/pence-makes-moves-gop-aren-061521032.html\"><span>Pence makes moves, and some in GOP aren't happy</span><u class=\"Pos(a) T(0) Start(0) W(100%) H(100%) strm-stretch\"></u></a>,\n",
       " <a class=\"O(n):f C($m_blue):f Pos(r) Mih(70px) Mih(0)--md1160 Mb(6px)--md1160 Pstart(82px) Pstart(0)--md1160 Fl(start) W(50%) W(a)--md1160 strm-sl-link js-stream-content-link js-stream-item-title js-content-title js-sl js-content-viewer rapid-noclick-resp rapidnofollow C($link) C($m_blue):h Td(n) Fz(12px) Bxz(bb) Pend(13px)\" data-attrcat=\"news\" data-rapid_p=\"41\" data-share-link=\"http://www.newsweek.com/fired-trump-campaign-manager-corey-lewandowski-join-pence-pac-926674?utm_source=yahoo&amp;utm_medium=yahoo_news&amp;utm_campaign=rss&amp;utm_content=926674&amp;yptr=yahoo\" data-uuid=\"d5f66bd9-daf8-318d-b1c8-a8508737a6fd\" data-v9y=\"0\" data-ylk=\"cpos:7;cposy:23;bpos:1;pos:2;ss_cid:e498d03a-c51b-40cf-ba3f-94e210759a89;refcnt:2;subsec:993;imgt:ss;g:d5f66bd9-daf8-318d-b1c8-a8508737a6fd;ct:1;pkgt:cluster_all_img;grpt:storyCluster;cnt_tpc:Politics;elm:rhdln;elmt:ct;r:4000089007S00001;ccode:mega_sieve_offnet;t4:rel;\" href=\"https://www.yahoo.com/news/m/d5f66bd9-daf8-318d-b1c8-a8508737a6fd/fired-trump-campaign-manager.html\"><img alt=\"\" class=\"Maw(100%) H(a) Mend(12px) Va(t) Pos(a) Start(0) rounded-img D(n)--md1160 ImageLoader\" height=\"70\" src=\"https://s.yimg.com/os/mit/ape/m/81f43c2/t.gif\" style=\"background-image:url('https://s.yimg.com/uu/api/res/1.2/LgEPX1dGz8vAM1Dg4XKDXw--~B/Zmk9c3RyaW07aD0xNDA7cHlvZmY9MDtxPTkwO3c9MTQwO3NtPTE7YXBwaWQ9eXRhY2h5b24-/http://media.zenfs.com/en-GB/homerun/newsweek_uk_onc_183/5164af74b824da0ee1f77231c30068d5')\" width=\"70\"/><div class=\"D(ib) W(100%)\"><div class=\"Mend(7px) Lh(15px) LineClamp(3,45px) Fw(b) D(i)--md1160\">Fired Trump Campaign Manager Corey Lewandowski to Join Pence PAC Amid Reports of White House Rift</div><span class=\"Fz(11px) Td(n) C(gray_dark) Fw(n) D(b) Mt(2px) Whs(pl) Tt(c) D(i)--md1160\">Newsweek</span></div></a>,\n",
       " <a class=\"O(n):f C($m_blue):f Pos(r) Mih(70px) Mih(0)--md1160 Pstart(82px) Pstart(0)--md1160 Fl(start) W(50%) W(a)--md1160 strm-sl-link js-stream-content-link js-stream-item-title js-content-title js-sl js-content-viewer rapid-noclick-resp rapidnofollow C($link) C($m_blue):h Td(n) Fz(12px) Bxz(bb)\" data-attrcat=\"news\" data-rapid_p=\"42\" data-share-link=\"http://www.foxnews.com/politics/2018/05/14/corey-lewandowski-joining-pence-team-will-focus-on-midterms-and-then-2020.html\" data-uuid=\"8bd38eb7-f048-32b9-89f9-2cc9dca9e80c\" data-v9y=\"0\" data-ylk=\"cpos:7;cposy:24;bpos:1;pos:3;ss_cid:e498d03a-c51b-40cf-ba3f-94e210759a89;refcnt:2;subsec:993;imgt:ss;g:8bd38eb7-f048-32b9-89f9-2cc9dca9e80c;ct:1;pkgt:cluster_all_img;grpt:storyCluster;cnt_tpc:Politics;elm:rhdln;elmt:ct;r:4000089007S00001;ccode:mega_sieve_offnet;t4:rel;\" href=\"https://www.yahoo.com/news/m/8bd38eb7-f048-32b9-89f9-2cc9dca9e80c/ss_corey-lewandowski-joining.html\"><img alt=\"\" class=\"Maw(100%) H(a) Mend(12px) Va(t) Pos(a) Start(0) rounded-img D(n)--md1160 ImageLoader\" height=\"70\" src=\"https://s.yimg.com/os/mit/ape/m/81f43c2/t.gif\" style=\"background-image:url('https://s.yimg.com/uu/api/res/1.2/3ZIHA0v6SLnVrQqN0kt_zw--~B/Zmk9c3RyaW07aD0xNDA7cHlvZmY9MDtxPTkwO3c9MTQwO3NtPTE7YXBwaWQ9eXRhY2h5b24-/http://l.yimg.com/yp/offnetwork/f9c756a82d2ddb305508211f0ec173e8')\" width=\"70\"/><div class=\"D(ib) W(100%)\"><div class=\"Mend(7px) Lh(15px) LineClamp(3,45px) Fw(b) D(i)--md1160\">Corey Lewandowski joining Pence team, will focus on midterms and then 2020</div><span class=\"Fz(11px) Td(n) C(gray_dark) Fw(n) D(b) Mt(2px) Whs(pl) Tt(c) D(i)--md1160\">Fox News</span></div></a>,\n",
       " <a class=\"Pos(r) js-stream-comments-button js-content-viewer rapid-noclick-resp rapidnofollow Td(n) O(n) C($c_icon) Px(14px) Pb(5px) Pt(25px)\" data-rapid_p=\"43\" data-v9y=\"0\" data-ylk=\"cpos:7;cposy:22;bpos:1;pos:1;ss_cid:e498d03a-c51b-40cf-ba3f-94e210759a89;refcnt:2;subsec:993;imgt:ss;g:c564230e-bc8b-3735-bcbd-732d64344178;ct:1;pkgt:cluster_all_img;grpt:storyCluster;cnt_tpc:Politics;r:4000089007S00001;ccode:mega_sieve_offnet;t4:ctrl;elm:btn;slk:cmmt;itc:0;\" href=\"https://www.yahoo.com/entertainment/pence-makes-moves-gop-aren-061521032.html\" role=\"button\" tabindex=\"0\"><b aria-live=\"polite\" class=\"js-stream-comment-label ActionTooltip Pos(a) Whs(n) Bd($bdr) Bdc($bdr_darkgrey) Bdrs(3px) Bgc(#fff) Bxsh($menuShadow) Lh(14px) Py(7px) End(-25px) C($signin_blue) js-stream-comments-button&gt;Start(50%) js-stream-comments-button:h&gt;Start(a)\">Reactions</b><i class=\"Icon-Fp2 IconComments Fz(21px) \"></i></a>,\n",
       " <a class=\"Pos(r) D(ib) streamImage js-stream-content-link W(100%) js-content-viewer rapid-noclick-resp rapidnofollow\" data-attrcat=\"news\" data-rapid_p=\"44\" data-share-link=\"http://www.businessinsider.com/woman-arrested-after-filming-herself-skinning-endangered-animals-2018-5?amp%3Butm_medium=referral\" data-v9y=\"0\" data-ylk=\"cpos:8;cposy:25;bpos:1;pos:1;subsec:124;imgt:ss;g:eb635003-e3d7-3805-8e6c-7105d694ac75;ct:1;pkgt:orphan_img;grpt:storyCluster;cnt_tpc:U.S.;elm:img;elmt:ct;r:4000024758S00008;ccode:mega_sieve_offnet;\" href=\"https://www.yahoo.com/news/m/eb635003-e3d7-3805-8e6c-7105d694ac75/ss_a-%27survivalist%27-woman-has.html\" rel=\"nofollow\"><img alt=\"\" class=\"W(100%) BackgroundPic rounded-img ImageLoader\" height=\"107\" src=\"https://s.yimg.com/os/mit/ape/m/81f43c2/t.gif\" style=\"background-image:url('https://s.yimg.com/uu/api/res/1.2/DzZbuYOuB67yMJUtF9ciWQ--~B/Zmk9c3RyaW07aD0yMTQ7cHlvZmY9MDtxPTgwO3c9MzgwO3NtPTE7YXBwaWQ9eXRhY2h5b24-/http://l.yimg.com/yp/offnetwork/1ea5b58e4932d5c247a83e573accb315')\" width=\"190\"/>\\n</a>,\n",
       " <a class=\" O(n):f C($m_blue):f js-stream-content-link js-stream-item-title js-content-viewer rapid-noclick-resp rapidnofollow js-content-title C($link) C($m_blue):h Td(n) Fz(17px) Fw(b)\" data-attrcat=\"news\" data-rapid_p=\"45\" data-share-link=\"http://www.businessinsider.com/woman-arrested-after-filming-herself-skinning-endangered-animals-2018-5?amp%3Butm_medium=referral\" data-v9y=\"0\" data-ylk=\"cpos:8;cposy:25;bpos:1;pos:1;subsec:124;imgt:ss;g:eb635003-e3d7-3805-8e6c-7105d694ac75;ct:1;pkgt:orphan_img;grpt:storyCluster;cnt_tpc:U.S.;elm:hdln;elmt:ct;r:4000024758S00008;ccode:mega_sieve_offnet;\" href=\"https://www.yahoo.com/news/m/eb635003-e3d7-3805-8e6c-7105d694ac75/ss_a-%27survivalist%27-woman-has.html\" rel=\"nofollow\"><span>A 'survivalist' woman has been arrested for making videos where she skins and eats endangered animals</span><u class=\"Pos(a) T(0) Start(0) W(100%) H(100%) strm-stretch\"></u></a>,\n",
       " <a class=\"Pos(r) js-stream-comments-button js-content-viewer rapid-noclick-resp rapidnofollow Td(n) O(n) C($c_icon) Px(14px) Pb(5px) Pt(25px)\" data-rapid_p=\"46\" data-v9y=\"0\" data-ylk=\"cpos:8;cposy:25;bpos:1;pos:1;subsec:124;imgt:ss;g:eb635003-e3d7-3805-8e6c-7105d694ac75;ct:1;pkgt:orphan_img;grpt:storyCluster;cnt_tpc:U.S.;r:4000024758S00008;ccode:mega_sieve_offnet;t4:ctrl;elm:btn;slk:cmmt;itc:0;\" href=\"https://www.yahoo.com/news/m/eb635003-e3d7-3805-8e6c-7105d694ac75/ss_a-%27survivalist%27-woman-has.html\" role=\"button\" tabindex=\"0\"><b aria-live=\"polite\" class=\"js-stream-comment-label ActionTooltip Pos(a) Whs(n) Bd($bdr) Bdc($bdr_darkgrey) Bdrs(3px) Bgc(#fff) Bxsh($menuShadow) Lh(14px) Py(7px) End(-25px) C($signin_blue) js-stream-comments-button&gt;Start(50%) js-stream-comments-button:h&gt;Start(a)\">Reactions</b><i class=\"Icon-Fp2 IconComments Fz(21px) \"></i></a>,\n",
       " <a class=\"Td(n):h C($link) Fz(13px) Ell D(ib)\" data-rapid_p=\"1\" data-ylk=\"rspns:nav;t1:a4;t2:tc-ts;t3:ct;sec:tc-ts;cat:trendin;cpos:1;bpos:1;slk:Topher Grace;kt:org;req_t:1526458200;uuid:0e081ea1-c4f1-3327-add8-994c526db5e5;elm:itm;elmt:topic;itc:0;\" href=\"https://search.yahoo.com/search?p=Topher+Grace&amp;fr=fp-tts&amp;fr2=p:fp,m:tn,ct:all,kt:org,pg:1,stl:crsl,b:\" title=\"Topher Grace\">\\n<span class=\"D(ib) W(1.3em) Ta(e) C(#000)\">1.</span><span class=\"C($searchBlue):h Fw(b) Mstart(2px)\"> Topher Grace</span>\\n</a>,\n",
       " <a class=\"Td(n):h C($link) Fz(13px) Ell D(ib)\" data-rapid_p=\"2\" data-ylk=\"rspns:nav;t1:a4;t2:tc-ts;t3:ct;sec:tc-ts;cat:trendin;cpos:2;bpos:1;slk:Howard Stern;kt:org;req_t:1526458200;uuid:7569f710-c385-35fb-a884-b522beeea50c;elm:itm;elmt:topic;itc:0;\" href=\"https://search.yahoo.com/search?p=Howard+Stern&amp;fr=fp-tts&amp;fr2=p:fp,m:tn,ct:all,kt:org,pg:1,stl:crsl,b:\" title=\"Howard Stern\">\\n<span class=\"D(ib) W(1.3em) Ta(e) C(#000)\">2.</span><span class=\"C($searchBlue):h Fw(b) Mstart(2px)\"> Howard Stern</span>\\n</a>,\n",
       " <a class=\"Td(n):h C($link) Fz(13px) Ell D(ib)\" data-rapid_p=\"3\" data-ylk=\"rspns:nav;t1:a4;t2:tc-ts;t3:ct;sec:tc-ts;cat:trendin;cpos:3;bpos:1;slk:Cano Suspended;kt:org;req_t:1526458200;uuid:fb33d978-c145-3c52-a368-5b17bc7f71c4;elm:itm;elmt:topic;itc:0;\" href=\"https://search.yahoo.com/search?p=Cano+Suspended&amp;fr=fp-tts&amp;fr2=p:fp,m:tn,ct:all,kt:org,pg:1,stl:crsl,b:\" title=\"Cano Suspended\">\\n<span class=\"D(ib) W(1.3em) Ta(e) C(#000)\">3.</span><span class=\"C($searchBlue):h Fw(b) Mstart(2px)\"> Cano Suspended</span>\\n</a>,\n",
       " <a class=\"Td(n):h C($link) Fz(13px) Ell D(ib)\" data-rapid_p=\"4\" data-ylk=\"rspns:nav;t1:a4;t2:tc-ts;t3:ct;sec:tc-ts;cat:trendin;cpos:4;bpos:1;slk:Connie Britton;kt:org;req_t:1526458200;uuid:d5f30f17-53c9-3b9a-8143-5288e8bd3d17;elm:itm;elmt:topic;itc:0;\" href=\"https://search.yahoo.com/search?p=Connie+Britton&amp;fr=fp-tts&amp;fr2=p:fp,m:tn,ct:all,kt:org,pg:1,stl:crsl,b:\" title=\"Connie Britton\">\\n<span class=\"D(ib) W(1.3em) Ta(e) C(#000)\">4.</span><span class=\"C($searchBlue):h Fw(b) Mstart(2px)\"> Connie Britton</span>\\n</a>,\n",
       " <a class=\"Td(n):h C($link) Fz(13px) Ell D(ib)\" data-rapid_p=\"5\" data-ylk=\"rspns:nav;t1:a4;t2:tc-ts;t3:ct;sec:tc-ts;cat:trendin;cpos:5;bpos:1;slk:Car Rentals;kt:rev;req_t:1526458200;uuid:aea24e8a-59a8-3379-bd39-b7c56d64337b;elm:itm;elmt:topic;itc:0;\" href=\"https://search.yahoo.com/search?p=Car+Rentals&amp;fr=fp-tts&amp;fr2=p:fp,m:tn,ct:all,kt:rev,pg:1,stl:crsl,b:\" title=\"Car Rentals\">\\n<span class=\"D(ib) W(1.3em) Ta(e) C(#000)\">5.</span><span class=\"C($searchBlue):h Fw(b) Mstart(2px)\"> Car Rentals</span>\\n</a>,\n",
       " <a class=\"Td(n):h C($link) Fz(13px) Ell D(ib)\" data-rapid_p=\"6\" data-ylk=\"rspns:nav;t1:a4;t2:tc-ts;t3:ct;sec:tc-ts;cat:trendin;cpos:6;bpos:1;slk:Cruises;kt:rev;req_t:1526458200;uuid:44030c1d-a257-3295-b974-dcf0a0ef801b;elm:itm;elmt:topic;itc:0;\" href=\"https://search.yahoo.com/search?p=Cruises&amp;fr=fp-tts&amp;fr2=p:fp,m:tn,ct:all,kt:rev,pg:1,stl:crsl,b:\" title=\"Cruises\">\\n<span class=\"D(ib) W(1.3em) Ta(e) C(#000)\">6.</span><span class=\"C($searchBlue):h Fw(b) Mstart(2px)\"> Cruises</span>\\n</a>,\n",
       " <a class=\"Td(n):h C($link) Fz(13px) Ell D(ib)\" data-rapid_p=\"7\" data-ylk=\"rspns:nav;t1:a4;t2:tc-ts;t3:ct;sec:tc-ts;cat:trendin;cpos:7;bpos:1;slk:Xander Schauffele;kt:org;req_t:1526458200;uuid:822ae35e-014f-3b8c-be15-f2e081894308;elm:itm;elmt:topic;itc:0;\" href=\"https://search.yahoo.com/search?p=Xander+Schauffele&amp;fr=fp-tts&amp;fr2=p:fp,m:tn,ct:all,kt:org,pg:1,stl:crsl,b:\" title=\"Xander Schauffele\">\\n<span class=\"D(ib) W(1.3em) Ta(e) C(#000)\">7.</span><span class=\"C($searchBlue):h Fw(b) Mstart(2px)\"> Xander Schauffele</span>\\n</a>,\n",
       " <a class=\"Td(n):h C($link) Fz(13px) Ell D(ib)\" data-rapid_p=\"8\" data-ylk=\"rspns:nav;t1:a4;t2:tc-ts;t3:ct;sec:tc-ts;cat:trendin;cpos:8;bpos:1;slk:Isaiah Silva;kt:org;req_t:1526458200;uuid:df6ce8e1-817f-304e-83f1-6c7db03aa198;elm:itm;elmt:topic;itc:0;\" href=\"https://search.yahoo.com/search?p=Isaiah+Silva&amp;fr=fp-tts&amp;fr2=p:fp,m:tn,ct:all,kt:org,pg:1,stl:crsl,b:\" title=\"Isaiah Silva\">\\n<span class=\"D(ib) W(1.3em) Ta(e) C(#000)\">8.</span><span class=\"C($searchBlue):h Fw(b) Mstart(2px)\"> Isaiah Silva</span>\\n</a>,\n",
       " <a class=\"Td(n):h C($link) Fz(13px) Ell D(ib)\" data-rapid_p=\"9\" data-ylk=\"rspns:nav;t1:a4;t2:tc-ts;t3:ct;sec:tc-ts;cat:trendin;cpos:9;bpos:1;slk:Real Madrid;kt:org;req_t:1526458200;uuid:b6342dae-5ffc-3a53-9075-06014030747c;elm:itm;elmt:topic;itc:0;\" href=\"https://search.yahoo.com/search?p=Real+Madrid&amp;fr=fp-tts&amp;fr2=p:fp,m:tn,ct:all,kt:org,pg:1,stl:crsl,b:\" title=\"Real Madrid\">\\n<span class=\"D(ib) W(1.3em) Ta(e) C(#000)\">9.</span><span class=\"C($searchBlue):h Fw(b) Mstart(2px)\"> Real Madrid</span>\\n</a>,\n",
       " <a class=\"Td(n):h C($link) Fz(13px) Ell D(ib)\" data-rapid_p=\"10\" data-ylk=\"rspns:nav;t1:a4;t2:tc-ts;t3:ct;sec:tc-ts;cat:trendin;cpos:10;bpos:1;slk:Window Clings;kt:rev;req_t:1526458200;uuid:903808f5-9379-3378-9b47-d39781dc1c12;elm:itm;elmt:topic;itc:0;\" href=\"https://search.yahoo.com/search?p=Window+Clings&amp;fr=fp-tts&amp;fr2=p:fp,m:tn,ct:all,kt:rev,pg:1,stl:crsl,b:\" title=\"Window Clings\">\\n<span class=\"D(ib) W(1.3em) Ta(e) C(#000)\">10.</span><span class=\"C($searchBlue):h Fw(b) Mstart(2px)\"> Window Clings</span>\\n</a>,\n",
       " <a class=\"C(#000) C($m_blue):h Td(n)\" href=\"https://weather.yahoo.com\"><h2 class=\"Fz(15px) Fw(b) Mt(0) Mb(16px) D(ib) Grid-U js-show-panel js-city-name\">New York, NY\\n</h2></a>,\n",
       " <a class=\"C(#000) Td(n)\" data-ylk=\"itc:0;elm:itm;elmt:ct;rspns:nav;\" href=\"https://weather.yahoo.com/us/new-york/new-york-12761785/\">\\n<h3 class=\"Fz(13px) Mb(7px)\">Today</h3>\\n<img alt=\"Cloudy\" class=\"D(b) M(a)\" height=\"43\" src=\"https://s.yimg.com/os/mit/ape/w/d8f6e02/dark/scattered_showers_day_night.png\" width=\"43\"/>\\n<span class=\"Mstart(6px) D(tbc) Mt(2px)\">\\n<b class=\"Fz(13px) Fw(b) D(tbc) Pend(3px)\">68\\xb0<b class=\"Hidden\">f High</b></b>\\n<b class=\"Fz(13px) Fw(b) C($temp_low) D(tbc)\">57\\xb0<b class=\"Hidden\">f Low</b></b>\\n</span>\\n</a>,\n",
       " <a class=\"C(#000) Td(n)\" data-ylk=\"itc:0;elm:itm;elmt:ct;rspns:nav;\" href=\"https://weather.yahoo.com/us/new-york/new-york-12761785/\">\\n<h3 class=\"Fz(13px) Mb(7px)\">Thu</h3>\\n<img alt=\"Cloudy\" class=\"D(b) M(a)\" height=\"43\" src=\"https://s.yimg.com/os/mit/ape/w/d8f6e02/dark/scattered_showers_day_night.png\" width=\"43\"/>\\n<span class=\"Mstart(6px) D(tbc) Mt(2px)\">\\n<b class=\"Fz(13px) Fw(b) D(tbc) Pend(3px)\">72\\xb0<b class=\"Hidden\">f High</b></b>\\n<b class=\"Fz(13px) Fw(b) C($temp_low) D(tbc)\">57\\xb0<b class=\"Hidden\">f Low</b></b>\\n</span>\\n</a>,\n",
       " <a class=\"C(#000) Td(n)\" data-ylk=\"itc:0;elm:itm;elmt:ct;rspns:nav;\" href=\"https://weather.yahoo.com/us/new-york/new-york-12761785/\">\\n<h3 class=\"Fz(13px) Mb(7px)\">Fri</h3>\\n<img alt=\"Cloudy\" class=\"D(b) M(a)\" height=\"43\" src=\"https://s.yimg.com/os/mit/ape/w/d8f6e02/dark/scattered_showers_day_night.png\" width=\"43\"/>\\n<span class=\"Mstart(6px) D(tbc) Mt(2px)\">\\n<b class=\"Fz(13px) Fw(b) D(tbc) Pend(3px)\">63\\xb0<b class=\"Hidden\">f High</b></b>\\n<b class=\"Fz(13px) Fw(b) C($temp_low) D(tbc)\">54\\xb0<b class=\"Hidden\">f Low</b></b>\\n</span>\\n</a>,\n",
       " <a class=\"C(#000) Td(n)\" data-ylk=\"itc:0;elm:itm;elmt:ct;rspns:nav;\" href=\"https://weather.yahoo.com/us/new-york/new-york-12761785/\">\\n<h3 class=\"Fz(13px) Mb(7px)\">Sat</h3>\\n<img alt=\"Cloudy\" class=\"D(b) M(a)\" height=\"43\" src=\"https://s.yimg.com/os/mit/ape/w/d8f6e02/dark/scattered_showers_day_night.png\" width=\"43\"/>\\n<span class=\"Mstart(6px) D(tbc) Mt(2px)\">\\n<b class=\"Fz(13px) Fw(b) D(tbc) Pend(3px)\">62\\xb0<b class=\"Hidden\">f High</b></b>\\n<b class=\"Fz(13px) Fw(b) C($temp_low) D(tbc)\">55\\xb0<b class=\"Hidden\">f Low</b></b>\\n</span>\\n</a>,\n",
       " <a class=\"Td(n) C(#000)\" data-ylk=\"subsec:Yahoo View;itc:0;elm:hldn;\" href=\"https://view.yahoo.com/?utm_source=yahoo&amp;utm_medium=referral&amp;utm_campaign=fpmodule\">The best TV for free</a>,\n",
       " <a class=\"Td(n) D(b) Cur(p) C(#000) C($m_blue):h C($m_blue):f Mt(15px) Mih(82px)\" data-ylk=\"subsec:Yahoo View;cpos:1;itc:1;elm:img;\" href=\"https://view.yahoo.com/show/late-night-with-seth-meyers/episode/61117530/milo-ventimiglia-laurie-metcalf-ashley-monroe/?utm_source=yahoo&amp;utm_medium=referral&amp;utm_campaign=fpmodule\"><div class=\"Row\"><div class=\"Fl(start) W(50%) Pos(r)\"><img alt=\"Late Night With Seth Meyers\" class=\"Pos(r)\" height=\"82\" src=\"https://s1.yimg.com/uu/api/res/1.2/6SEa352Yy2GFDJjNeDANJA--/YXBwaWQ9eXRhY2h5b247aD0xNjQ7dz0yOTA7/https://ibdp.videovore.com/video/61117530?size=512x288\" width=\"145\"/><div class=\"Pos(a) C(#fff) W(28px) H(28px) Bgi($orb) Bgz(ct) B(5px) Start(5px)\"><i class=\"Pos(a) Fz(12px) C(#fff) T(6px) Mstart(11px) Icon-Fp2 IconCorePlay\"></i></div></div><div class=\"Fl(start) W(50%)\"><div class=\"Pstart(8px)\"><div class=\"Fw(b) Fz(13px) Pb(2px)\">Late Night With Seth Meyers</div><div class=\"Fz(11px) C(#000) Pb(2px)\">Season 5 Episode 104</div><div \"=\"\" class=\"Fz(11px) C($gray_dark) LineClamp(2,30px)\">Milo Ventimiglia, Laurie Metcalf, Ashley Monroe</div></div></div></div></a>,\n",
       " <a class=\"Td(n) D(b) Cur(p) C(#000) C($m_blue):h C($m_blue):f Mt(15px) Mih(82px)\" data-ylk=\"subsec:Yahoo View;cpos:2;itc:1;elm:img;\" href=\"https://view.yahoo.com/show/the-tonight-show-starring-jimmy-fallon/episode/61117527/nathan-lane-yara-shahidi-kygo-and-miguel/?utm_source=yahoo&amp;utm_medium=referral&amp;utm_campaign=fpmodule\"><div class=\"Row\"><div class=\"Fl(start) W(50%) Pos(r)\"><img alt=\"The Tonight Show Starring Jimmy Fallon\" class=\"Pos(r)\" height=\"82\" src=\"https://s1.yimg.com/uu/api/res/1.2/Q9802A0T6Hh97If6Rio_UA--/YXBwaWQ9eXRhY2h5b247aD0xNjQ7dz0yOTA7/https://ibdp.videovore.com/video/61117527?size=512x288\" width=\"145\"/><div class=\"Pos(a) C(#fff) W(28px) H(28px) Bgi($orb) Bgz(ct) B(5px) Start(5px)\"><i class=\"Pos(a) Fz(12px) C(#fff) T(6px) Mstart(11px) Icon-Fp2 IconCorePlay\"></i></div></div><div class=\"Fl(start) W(50%)\"><div class=\"Pstart(8px)\"><div class=\"Fw(b) Fz(13px) Pb(2px)\">The Tonight Show Starring Jimmy Fallon</div><div class=\"Fz(11px) C(#000) Pb(2px)\">Season 5 Episode 128</div><div \"=\"\" class=\"Fz(11px) C($gray_dark) LineClamp(2,30px)\">Nathan Lane, Yara Shahidi, Kygo and Miguel</div></div></div></div></a>,\n",
       " <a class=\"Td(n) D(b) Cur(p) C(#000) C($m_blue):h C($m_blue):f Mt(15px) Mih(82px)\" data-ylk=\"subsec:Yahoo View;cpos:3;itc:1;elm:img;\" href=\"https://view.yahoo.com/show/the-voice/episode/61117486/live-semi-final-performances/?utm_source=yahoo&amp;utm_medium=referral&amp;utm_campaign=fpmodule\"><div class=\"Row\"><div class=\"Fl(start) W(50%) Pos(r)\"><img alt=\"The Voice\" class=\"Pos(r)\" height=\"82\" src=\"https://s1.yimg.com/uu/api/res/1.2/9VJ1TBaYTr25fmTeZBWuMQ--/YXBwaWQ9eXRhY2h5b247aD0xNjQ7dz0yOTA7/https://ibdp.videovore.com/video/61117486?size=512x288\" width=\"145\"/><div class=\"Pos(a) C(#fff) W(28px) H(28px) Bgi($orb) Bgz(ct) B(5px) Start(5px)\"><i class=\"Pos(a) Fz(12px) C(#fff) T(6px) Mstart(11px) Icon-Fp2 IconCorePlay\"></i></div></div><div class=\"Fl(start) W(50%)\"><div class=\"Pstart(8px)\"><div class=\"Fw(b) Fz(13px) Pb(2px)\">The Voice</div><div class=\"Fz(11px) C(#000) Pb(2px)\">Season 14 Episode 25</div><div \"=\"\" class=\"Fz(11px) C($gray_dark) LineClamp(2,30px)\">Live Semi-Final Performances</div></div></div></div></a>,\n",
       " <a class=\"Td(n) D(b) Cur(p) C(#000) C($m_blue):h C($m_blue):f Mt(15px) Mih(82px)\" data-ylk=\"subsec:Yahoo View;cpos:4;itc:1;elm:img;\" href=\"https://view.yahoo.com/show/saturday-night-live/episode/61116404/amy-schumer/?utm_source=yahoo&amp;utm_medium=referral&amp;utm_campaign=fpmodule\"><div class=\"Row\"><div class=\"Fl(start) W(50%) Pos(r)\"><img alt=\"Saturday Night Live\" class=\"Pos(r)\" height=\"82\" src=\"https://s.yimg.com/uu/api/res/1.2/hdV4OZOg6f6GdrbHPW.MtA--/YXBwaWQ9eXRhY2h5b247aD0xNjQ7dz0yOTA7/https://ibdp.videovore.com/video/61116404?size=512x288\" width=\"145\"/><div class=\"Pos(a) C(#fff) W(28px) H(28px) Bgi($orb) Bgz(ct) B(5px) Start(5px)\"><i class=\"Pos(a) Fz(12px) C(#fff) T(6px) Mstart(11px) Icon-Fp2 IconCorePlay\"></i></div></div><div class=\"Fl(start) W(50%)\"><div class=\"Pstart(8px)\"><div class=\"Fw(b) Fz(13px) Pb(2px)\">Saturday Night Live</div><div class=\"Fz(11px) C(#000) Pb(2px)\">Season 43 Episode 22</div><div \"=\"\" class=\"Fz(11px) C($gray_dark) LineClamp(2,30px)\">Amy Schumer</div></div></div></div></a>,\n",
       " <a class=\"D(b) Cur(p) C($link) C($m_blue):h C($m_blue):f Fw(400) Fz(13px) Td(n) Mt(14px)\" data-ylk=\"subsec:Yahoo View;itc:0;elm:more;\" href=\"https://view.yahoo.com/?utm_source=yahoo&amp;utm_medium=referral&amp;utm_campaign=fpmodule\">More on Yahoo View \\xbb</a>,\n",
       " <a class=\"Mend(20px) Pb(4px) Cur(p) C($dimmed) tab-selected_C(#000)! Fw(500) Td(n) tab-selected_Bdb($selectedTabBd) rapidnofollow\" data-range=\"prev\" data-ylk=\"t1:a4;t2:scrbrd;sec:scrbrd;elm:tab;elmt:day;itc:1;cat:mlb\">\\n            \\n\\n\\nYesterday\\n\\n</a>,\n",
       " <a class=\"Mend(20px) Pb(4px) Cur(p) C($dimmed) Fw(500) Td(n) tab-selected_C(#000)! tab-selected_Bdb($selectedTabBd) rapidnofollow\" data-range=\"curr\" data-ylk=\"t1:a4;t2:scrbrd;sec:scrbrd;elm:tab;elmt:day;itc:1;cat:mlb\">\\n            \\n\\n\\nToday\\n\\n</a>,\n",
       " <a class=\"Mend(20px) Pb(4px) Cur(p) C($dimmed) tab-selected_C(#000)! Fw(500) Td(n) tab-selected_Bdb($selectedTabBd) rapidnofollow\" data-range=\"next\" data-ylk=\"t1:a4;t2:scrbrd;sec:scrbrd;elm:tab;elmt:day;itc:1;cat:mlb\">\\n            \\n\\n\\nTomorrow\\n\\n</a>,\n",
       " <a class=\"Td(n)\" data-ylk=\"t1:a4;t2:scrbrd;sec:scrbrd;elm:img;elmt:game;itc:0;cat:mlb\" href=\"https://sports.yahoo.com/mlb/philadelphia-phillies-baltimore-orioles-380516101/\">\\n<ul class=\"Whs(nw) My(7px) C(#000)\">\\n<li class=\"D(ib) Fw(n) Whs(nw) Ta(start) W(50%) Va(m) Mend(10px)\">\\n<div class=\"Pb(2px) Ov(h)\">\\n<img alt=\"Philadelphia\" class=\"ImageLoader\" height=\"24\" src=\"https://s.yimg.com/os/mit/ape/m/81f43c2/t.gif\" style=\"background-image:url('https://s.yimg.com/xe/assets/logos/cv/api/default/20180410/phillies_wblrgr_70x70.png')\" width=\"24\"/>\\n<b class=\"Lh(24px) Mstart(4px)\">\\n                \\nPhiladelphia\\n</b>\\n</div>\\n<div class=\"Pt(2px) Ov(h)\">\\n<img alt=\"Baltimore\" class=\"ImageLoader\" height=\"24\" src=\"https://s.yimg.com/os/mit/ape/m/81f43c2/t.gif\" style=\"background-image:url('https://s.yimg.com/xe/logos/cv/api/default/20180411/orioles_lrgr_70x70.1.png')\" width=\"24\"/>\\n<b class=\"Lh(24px) Mstart(4px)\">\\n                \\nBaltimore\\n</b>\\n</div>\\n</li>\\n<li class=\"D(ib) Va(m)\">\\n<div class=\"Fz(11px)\">\\n<span class=\"D(b)\">\\n                            12:05 pm ET\\n</span>\\n<span class=\"D(ib)\">\\n                            \\n\\nMASN,\\n\\nCSP\\n\\n\\n</span>\\n</div>\\n</li>\\n</ul>\\n</a>,\n",
       " <a class=\"Td(n)\" data-ylk=\"t1:a4;t2:scrbrd;sec:scrbrd;elm:img;elmt:game;itc:0;cat:mlb\" href=\"https://sports.yahoo.com/mlb/chicago-white-sox-pittsburgh-pirates-380516123/\">\\n<ul class=\"Whs(nw) My(7px) C(#000)\">\\n<li class=\"D(ib) Fw(n) Whs(nw) Ta(start) W(50%) Va(m) Mend(10px)\">\\n<div class=\"Pb(2px) Ov(h)\">\\n<img alt=\"Chi White Sox\" class=\"ImageLoader\" height=\"24\" src=\"https://s.yimg.com/os/mit/ape/m/81f43c2/t.gif\" style=\"background-image:url('https://s.yimg.com/xe/logos/cv/api/default/20180411/whitesox_lrgr_70x70.1.png')\" width=\"24\"/>\\n<b class=\"Lh(24px) Mstart(4px)\">\\n                \\nChi White Sox\\n</b>\\n</div>\\n<div class=\"Pt(2px) Ov(h)\">\\n<img alt=\"Pittsburgh\" class=\"ImageLoader\" height=\"24\" src=\"https://s.yimg.com/os/mit/ape/m/81f43c2/t.gif\" style=\"background-image:url('https://s.yimg.com/xe/assets/logos/cv/api/default/20180410/pirates_lrgr_70x70.1.png')\" width=\"24\"/>\\n<b class=\"Lh(24px) Mstart(4px)\">\\n                \\nPittsburgh\\n</b>\\n</div>\\n</li>\\n<li class=\"D(ib) Va(m)\">\\n<div class=\"Fz(11px)\">\\n<span class=\"D(b)\">\\n                            12:35 pm ET\\n</span>\\n<span class=\"D(ib)\">\\n                            \\n\\nCSCh\\n\\n\\n</span>\\n</div>\\n</li>\\n</ul>\\n</a>,\n",
       " <a class=\"Td(n)\" data-ylk=\"t1:a4;t2:scrbrd;sec:scrbrd;elm:img;elmt:game;itc:0;cat:mlb\" href=\"https://sports.yahoo.com/mlb/cleveland-indians-detroit-tigers-380516106/\">\\n<ul class=\"Whs(nw) My(7px) C(#000)\">\\n<li class=\"D(ib) Fw(n) Whs(nw) Ta(start) W(50%) Va(m) Mend(10px)\">\\n<div class=\"Pb(2px) Ov(h)\">\\n<img alt=\"Cleveland\" class=\"ImageLoader\" height=\"24\" src=\"https://s.yimg.com/os/mit/ape/m/81f43c2/t.gif\" style=\"background-image:url('https://s.yimg.com/xe/assets/logos/cv/api/default/20180410/indians_lrgr_70x70.1.png')\" width=\"24\"/>\\n<b class=\"Lh(24px) Mstart(4px)\">\\n                \\nCleveland\\n</b>\\n</div>\\n<div class=\"Pt(2px) Ov(h)\">\\n<img alt=\"Detroit\" class=\"ImageLoader\" height=\"24\" src=\"https://s.yimg.com/os/mit/ape/m/81f43c2/t.gif\" style=\"background-image:url('https://s.yimg.com/xe/assets/logos/cv/api/default/20180410/tigers_wblrgr_70x70.png')\" width=\"24\"/>\\n<b class=\"Lh(24px) Mstart(4px)\">\\n                \\nDetroit\\n</b>\\n</div>\\n</li>\\n<li class=\"D(ib) Va(m)\">\\n<div class=\"Fz(11px)\">\\n<span class=\"D(b)\">\\n                            1:10 pm ET\\n</span>\\n<span class=\"D(ib)\">\\n                            \\n\\nSTO,\\n\\nFSD\\n\\n\\n</span>\\n</div>\\n</li>\\n</ul>\\n</a>,\n",
       " <a class=\"Td(n)\" data-ylk=\"t1:a4;t2:scrbrd;sec:scrbrd;elm:img;elmt:game;itc:0;cat:mlb\" href=\"https://sports.yahoo.com/mlb/st-louis-cardinals-minnesota-twins-380516109/\">\\n<ul class=\"Whs(nw) My(7px) C(#000)\">\\n<li class=\"D(ib) Fw(n) Whs(nw) Ta(start) W(50%) Va(m) Mend(10px)\">\\n<div class=\"Pb(2px) Ov(h)\">\\n<img alt=\"St. Louis\" class=\"ImageLoader\" height=\"24\" src=\"https://s.yimg.com/os/mit/ape/m/81f43c2/t.gif\" style=\"background-image:url('https://s.yimg.com/xe/assets/logos/cv/api/default/20180410/cardinals_wblrgr_70x70.png')\" width=\"24\"/>\\n<b class=\"Lh(24px) Mstart(4px)\">\\n                \\nSt. Louis\\n</b>\\n</div>\\n<div class=\"Pt(2px) Ov(h)\">\\n<img alt=\"Minnesota\" class=\"ImageLoader\" height=\"24\" src=\"https://s.yimg.com/os/mit/ape/m/81f43c2/t.gif\" style=\"background-image:url('https://s.yimg.com/xe/assets/logos/cv/api/default/20180410/twins_wblrgr_70x70.png')\" width=\"24\"/>\\n<b class=\"Lh(24px) Mstart(4px)\">\\n                \\nMinnesota\\n</b>\\n</div>\\n</li>\\n<li class=\"D(ib) Va(m)\">\\n<div class=\"Fz(11px)\">\\n<span class=\"D(b)\">\\n                            1:10 pm ET\\n</span>\\n<span class=\"D(ib)\">\\n                            \\n\\nFSNO,\\n\\nFSMW\\n\\n\\n</span>\\n</div>\\n</li>\\n</ul>\\n</a>,\n",
       " <a class=\"Td(n)\" data-ylk=\"t1:a4;t2:scrbrd;sec:scrbrd;elm:img;elmt:game;itc:0;cat:mlb\" href=\"https://sports.yahoo.com/mlb/toronto-blue-jays-new-york-mets-380516121/\">\\n<ul class=\"Whs(nw) My(7px) C(#000)\">\\n<li class=\"D(ib) Fw(n) Whs(nw) Ta(start) W(50%) Va(m) Mend(10px)\">\\n<div class=\"Pb(2px) Ov(h)\">\\n<img alt=\"Toronto\" class=\"ImageLoader\" height=\"24\" src=\"https://s.yimg.com/os/mit/ape/m/81f43c2/t.gif\" style=\"background-image:url('https://s.yimg.com/xe/logos/cv/api/default/20180411/bluejays_lrgr_70x70.6.png')\" width=\"24\"/>\\n<b class=\"Lh(24px) Mstart(4px)\">\\n                \\nToronto\\n</b>\\n</div>\\n<div class=\"Pt(2px) Ov(h)\">\\n<img alt=\"NY Mets\" class=\"ImageLoader\" height=\"24\" src=\"https://s.yimg.com/os/mit/ape/m/81f43c2/t.gif\" style=\"background-image:url('https://s.yimg.com/xe/assets/logos/cv/api/default/20180410/mets_lrgr_70x70.1.png')\" width=\"24\"/>\\n<b class=\"Lh(24px) Mstart(4px)\">\\n                \\nNY Mets\\n</b>\\n</div>\\n</li>\\n<li class=\"D(ib) Va(m)\">\\n<div class=\"Fz(11px)\">\\n<span class=\"D(b)\">\\n                            1:10 pm ET\\n</span>\\n<span class=\"D(ib)\">\\n                            \\n\\nSNY,\\n\\nRSN\\n\\n\\n</span>\\n</div>\\n</li>\\n</ul>\\n</a>,\n",
       " <a class=\"Td(n)\" data-ylk=\"t1:a4;t2:scrbrd;sec:scrbrd;elm:img;elmt:game;itc:0;cat:mlb\" href=\"https://sports.yahoo.com/mlb/tampa-bay-rays-kansas-city-royals-380516107/\">\\n<ul class=\"Whs(nw) My(7px) C(#000)\">\\n<li class=\"D(ib) Fw(n) Whs(nw) Ta(start) W(50%) Va(m) Mend(10px)\">\\n<div class=\"Pb(2px) Ov(h)\">\\n<img alt=\"Tampa Bay\" class=\"ImageLoader\" height=\"24\" src=\"https://s.yimg.com/os/mit/ape/m/81f43c2/t.gif\" style=\"background-image:url('https://s.yimg.com/xe/logos/cv/api/default/20180411/rays_lrgr_70x70.3.png')\" width=\"24\"/>\\n<b class=\"Lh(24px) Mstart(4px)\">\\n                \\nTampa Bay\\n</b>\\n</div>\\n<div class=\"Pt(2px) Ov(h)\">\\n<img alt=\"Kansas City\" class=\"ImageLoader\" height=\"24\" src=\"https://s.yimg.com/os/mit/ape/m/81f43c2/t.gif\" style=\"background-image:url('https://s.yimg.com/xe/logos/cv/api/default/20180411/royals_lrgr_70x70.1.png')\" width=\"24\"/>\\n<b class=\"Lh(24px) Mstart(4px)\">\\n                \\nKansas City\\n</b>\\n</div>\\n</li>\\n<li class=\"D(ib) Va(m)\">\\n<div class=\"Fz(11px)\">\\n<span class=\"D(b)\">\\n                            2:15 pm ET\\n</span>\\n<span class=\"D(ib)\">\\n                            \\n\\nFSKC,\\n\\nSUN\\n\\n\\n</span>\\n</div>\\n</li>\\n</ul>\\n</a>,\n",
       " <a class=\"D(ib) Mb(28px) Cur(p) C($link) C($m_blue):h C($m_blue):f Fw(500) Td(n)\" data-ylk=\"t1:a4;t2:scrbrd;sec:scrbrd;elm:itm;elmt:mr;itc:0;cat:mlb;\" href=\"\" id=\"ysp-more-scores\">More scores \\xbb</a>,\n",
       " <a class=\"js-another-sign Td(n) C($link) C($searchBlue):h Td(n):h rapidnofollow\" href=\"#\">change</a>,\n",
       " <a class=\" Fl(start) Pos(r) Z(1) C($link) Fw(b) C($searchBlue):h Td(n) Td(n):h\" href=\"http://www.yahoo.com/lifestyle/horoscope/taurus/daily-20180516.html\">See more \\xbb</a>,\n",
       " <a href=\"https://overview.mail.yahoo.com/\" style=\"background:url(https://s.yimg.com/nn/lib/metro/300_250_Human_Touch_mail.jpg) 0 0 no-repeat;height:250px;width:300px;display:block;margin:auto;\"></a>,\n",
       " <a href=\"https://baseball.fantasysports.yahoo.com/b1/signup\" style=\"background:url(https://s.yimg.com/nn/lib/metro/DailyFantasy_BN_Baseball_300x250-min.jpg) 0 0 no-repeat;height:250px;width:300px;display:block;margin:auto;\"></a>,\n",
       " <a class=\"Tt(c) Fz(13px) C($link) Op(.4) Td(n) mouseover:h_Op(1) C($m_blue):h\" data-ylk=\"t1:a4;t2:ft;t3:lst;sec:ft;elm:itm;elmt:link;itc:0;rspns:nav;\" href=\"http://info.yahoo.com/legal/us/yahoo/utos/terms/\">Terms (Updated)</a>,\n",
       " <a class=\"Tt(c) Fz(13px) C($link) Op(.4) Td(n) mouseover:h_Op(1) C($m_blue):h\" data-ylk=\"t1:a4;t2:ft;t3:lst;sec:ft;elm:itm;elmt:link;itc:0;rspns:nav;\" href=\"https://policies.yahoo.com/us/en/yahoo/privacy/index.htm\">Privacy (Updated)</a>,\n",
       " <a class=\"Tt(c) Fz(13px) C($link) Op(.4) Td(n) mouseover:h_Op(1) C($m_blue):h\" data-ylk=\"t1:a4;t2:ft;t3:lst;sec:ft;elm:itm;elmt:link;itc:0;rspns:nav;\" href=\"https://advertising.yahoo.com/\">Advertise</a>,\n",
       " <a class=\"Tt(c) Fz(13px) C($link) Op(.4) Td(n) mouseover:h_Op(1) C($m_blue):h\" data-ylk=\"t1:a4;t2:ft;t3:lst;sec:ft;elm:itm;elmt:link;itc:0;rspns:nav;\" href=\"http://info.yahoo.com/privacy/us/yahoo/relevantads.html\">About our Ads</a>,\n",
       " <a class=\"Tt(c) Fz(13px) C($link) Op(.4) Td(n) mouseover:h_Op(1) C($m_blue):h\" data-ylk=\"t1:a4;t2:ft;t3:lst;sec:ft;elm:itm;elmt:link;itc:0;rspns:nav;\" href=\"http://careers.yahoo.com/us\">Careers</a>,\n",
       " <a class=\"Tt(c) Fz(13px) C($link) Op(.4) Td(n) mouseover:h_Op(1) C($m_blue):h\" data-ylk=\"t1:a4;t2:ft;t3:lst;sec:ft;elm:itm;elmt:link;itc:0;rspns:nav;\" href=\"http://help.yahoo.com/l/us/yahoo/helpcentral/\">Help</a>,\n",
       " <a class=\"Tt(c) Fz(13px) C($link) Op(.4) Td(n) mouseover:h_Op(1) C($m_blue):h\" data-ylk=\"t1:a4;t2:ft;t3:lst;sec:ft;elm:itm;elmt:link;itc:0;rspns:nav;\" href=\"https://yahoo.uservoice.com/forums/341361-yahoo-home\">Feedback</a>]"
      ]
     },
     "execution_count": 122,
     "metadata": {},
     "output_type": "execute_result"
    }
   ],
   "source": [
    "aList"
   ]
  },
  {
   "cell_type": "code",
   "execution_count": 123,
   "metadata": {},
   "outputs": [],
   "source": [
    "idx=0\n",
    "for item in aList:\n",
    "    attr = item.attrs\n",
    "    if \"target\" in attr and attr[\"target\"]==\"_blank\":\n",
    "        url = attr[\"href\"]\n",
    "        if len(url)>500:\n",
    "            print len(url)\n",
    "            new_url = requests.get(url).url\n",
    "            old_domain = urlparse(url).hostname\n",
    "            new_domain = urlparse(new_url).hostname\n",
    "            if old_domain!=new_domain:\n",
    "                print \"Original URL:\", urlparse(url).hostname, \"Redirect URL:\",urlparse(new_url).hostname\n",
    "\n",
    "    "
   ]
  },
  {
   "cell_type": "code",
   "execution_count": 132,
   "metadata": {},
   "outputs": [],
   "source": [
    "b=[]\n",
    "a = [1,2,3]\n",
    "b =[4,5,6]"
   ]
  },
  {
   "cell_type": "code",
   "execution_count": 133,
   "metadata": {},
   "outputs": [],
   "source": [
    "b  = a+b"
   ]
  },
  {
   "cell_type": "code",
   "execution_count": 134,
   "metadata": {},
   "outputs": [
    {
     "data": {
      "text/plain": [
       "[1, 2, 3, 4, 5, 6]"
      ]
     },
     "execution_count": 134,
     "metadata": {},
     "output_type": "execute_result"
    }
   ],
   "source": [
    "b"
   ]
  },
  {
   "cell_type": "code",
   "execution_count": null,
   "metadata": {},
   "outputs": [],
   "source": [
    "import urllib2\n",
    "from os.path import basename\n",
    "from urlparse import urlsplit\n",
    "from bs4 import BeautifulSoup # for HTML parsing\n",
    "\n",
    "global urlList\n",
    "urlList = []\n",
    "fileName = './downloadImages'\n",
    "# recursively download images starting from the root URL\n",
    "def downloadImages(url, level): # the root URL is level 0\n",
    "    print url\n",
    "    global urlList\n",
    "    if url in urlList: # prevent using the same URL again\n",
    "        return\n",
    "    urlList.append(url)\n",
    "    try:\n",
    "        urlContent = urllib2.urlopen(url).read()\n",
    "    except:\n",
    "        return\n",
    "\n",
    "    soup = BeautifulSoup(''.join(urlContent))\n",
    "    # find and download all images\n",
    "    imgTags = soup.findAll('img')\n",
    "    for imgTag in imgTags:\n",
    "        imgUrl = imgTag['src']\n",
    "        try:\n",
    "            imgData = urllib2.urlopen(imgUrl).read()\n",
    "            fileName = basename(urlsplit(imgUrl)[2])\n",
    "            output = open(fileName,'wb')\n",
    "            output.write(imgData)\n",
    "            output.close()\n",
    "        except:\n",
    "            pass\n",
    "\n",
    "    # if there are links on the webpage then recursively repeat\n",
    "    if level > 0:\n",
    "        linkTags = soup.findAll('a')\n",
    "        if len(linkTags) > 0:\n",
    "            for linkTag in linkTags:\n",
    "                try:\n",
    "                    linkUrl = linkTag['href']\n",
    "                    downloadImages(linkUrl, level - 1)\n",
    "                except:\n",
    "                    pass\n",
    "\n",
    "# main\n",
    "downloadImages('http://www.yahoo.com', 1)"
   ]
  },
  {
   "cell_type": "code",
   "execution_count": 1,
   "metadata": {},
   "outputs": [
    {
     "name": "stderr",
     "output_type": "stream",
     "text": [
      "No handlers could be found for logger \"root\"\n"
     ]
    }
   ],
   "source": [
    "from fake_useragent import UserAgent\n",
    "ua = UserAgent()\n"
   ]
  },
  {
   "cell_type": "code",
   "execution_count": 2,
   "metadata": {},
   "outputs": [
    {
     "data": {
      "text/plain": [
       "u'Mozilla/5.0 (Macintosh; Intel Mac OS X 10_9_0) AppleWebKit/537.36 (KHTML, like Gecko) Chrome/32.0.1664.3 Safari/537.36'"
      ]
     },
     "execution_count": 2,
     "metadata": {},
     "output_type": "execute_result"
    }
   ],
   "source": [
    "ua.chrome"
   ]
  },
  {
   "cell_type": "code",
   "execution_count": null,
   "metadata": {},
   "outputs": [],
   "source": []
  }
 ],
 "metadata": {
  "kernelspec": {
   "display_name": "Python 2",
   "language": "python",
   "name": "python2"
  },
  "language_info": {
   "codemirror_mode": {
    "name": "ipython",
    "version": 2
   },
   "file_extension": ".py",
   "mimetype": "text/x-python",
   "name": "python",
   "nbconvert_exporter": "python",
   "pygments_lexer": "ipython2",
   "version": "2.7.14"
  }
 },
 "nbformat": 4,
 "nbformat_minor": 2
}
