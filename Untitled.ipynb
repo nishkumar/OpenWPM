{
 "cells": [
  {
   "cell_type": "code",
   "execution_count": 100,
   "metadata": {},
   "outputs": [],
   "source": [
    "from bs4 import BeautifulSoup\n",
    "import PIL.Image as Image\n",
    "import urllib2"
   ]
  },
  {
   "cell_type": "code",
   "execution_count": 117,
   "metadata": {},
   "outputs": [],
   "source": [
    "# url = 'https://www.yahoo.com/'\n",
    "# print url\n",
    "# urlContent = urllib2.urlopen(url).read()\n",
    "\n",
    "# soup = BeautifulSoup(''.join(urlContent))\n",
    "    \n",
    "HTML = open('sources/yahoo1.html').read()\n",
    "soup= BeautifulSoup(HTML, 'html.parser')"
   ]
  },
  {
   "cell_type": "code",
   "execution_count": 118,
   "metadata": {},
   "outputs": [],
   "source": [
    "imgTagList =  soup.find_all('img')\n",
    "aList = soup.find_all('a')\n",
    "iFrameList = soup.find_all('iframe')\n",
    "\n",
    "# imgTagList_w =  soup_w.body.find_all('img')\n",
    "# aList_w = soup_w.body.find_all('a')\n",
    "# iFrameList_w = soup_w.find_all('iframe')"
   ]
  },
  {
   "cell_type": "code",
   "execution_count": 119,
   "metadata": {},
   "outputs": [],
   "source": [
    "imgTagSrc = []\n",
    "aHref = []\n",
    "for imgItem, aItem in zip(imgTagList,aList):\n",
    "    try:\n",
    "        imgTagSrc.append(imgItem['src'])\n",
    "    except:\n",
    "        pass\n",
    "    try:\n",
    "        aHref.append(aItem['href'])\n",
    "    except:\n",
    "        pass\n",
    "    \n",
    "# imgTagSrc_w = []\n",
    "# aHref_w = []\n",
    "# for imgItem, aItem in zip(imgTagList_w,aList_w):\n",
    "#     try:\n",
    "#         imgTagSrc_w.append(imgItem['src'])\n",
    "#     except:\n",
    "#         pass\n",
    "#     try:\n",
    "#         aHref_w.append(aItem['href'])\n",
    "#     except:\n",
    "#         pass"
   ]
  },
  {
   "cell_type": "code",
   "execution_count": 137,
   "metadata": {},
   "outputs": [
    {
     "name": "stdout",
     "output_type": "stream",
     "text": [
      "<a class=\"Mend(20px) Pb(4px) Cur(p) C($dimmed) tab-selected_C(#000)! Fw(500) Td(n) tab-selected_Bdb($selectedTabBd) rapidnofollow\" data-range=\"prev\" data-ylk=\"t1:a4;t2:scrbrd;sec:scrbrd;elm:tab;elmt:day;itc:1;cat:mlb\">\n",
      "            \n",
      "\n",
      "\n",
      "Yesterday\n",
      "\n",
      "</a>\n",
      "<a class=\"Mend(20px) Pb(4px) Cur(p) C($dimmed) Fw(500) Td(n) tab-selected_C(#000)! tab-selected_Bdb($selectedTabBd) rapidnofollow\" data-range=\"curr\" data-ylk=\"t1:a4;t2:scrbrd;sec:scrbrd;elm:tab;elmt:day;itc:1;cat:mlb\">\n",
      "            \n",
      "\n",
      "\n",
      "Today\n",
      "\n",
      "</a>\n",
      "<a class=\"Mend(20px) Pb(4px) Cur(p) C($dimmed) tab-selected_C(#000)! Fw(500) Td(n) tab-selected_Bdb($selectedTabBd) rapidnofollow\" data-range=\"next\" data-ylk=\"t1:a4;t2:scrbrd;sec:scrbrd;elm:tab;elmt:day;itc:1;cat:mlb\">\n",
      "            \n",
      "\n",
      "\n",
      "Tomorrow\n",
      "\n",
      "</a>\n"
     ]
    }
   ],
   "source": [
    "links = []\n",
    "for item in aList:\n",
    "    try:\n",
    "        links.append(item['href'])\n",
    "    except:\n",
    "        print item"
   ]
  },
  {
   "cell_type": "code",
   "execution_count": 139,
   "metadata": {},
   "outputs": [
    {
     "data": {
      "text/plain": [
       "[u'https://www.yahoo.com/',\n",
       " u'https://mail.yahoo.com/',\n",
       " u'https://www.flickr.com/',\n",
       " u'https://www.tumblr.com/',\n",
       " u'https://www.yahoo.com/entertainment/',\n",
       " u'https://www.yahoo.com/lifestyle/',\n",
       " u'https://mobile.yahoo.com/',\n",
       " u'https://view.yahoo.com/?utm_source=yahoo&utm_medium=referral&utm_campaign=topbar',\n",
       " u'https://www.yahoo.com/everything/',\n",
       " u'https://www.yahoo.com/news/politics/',\n",
       " u'https://answers.yahoo.com/',\n",
       " u'https://groups.yahoo.com/',\n",
       " u'https://www.yahoo.com/music/',\n",
       " u'https://www.yahoo.com/tech/',\n",
       " u'https://shopping.yahoo.com/',\n",
       " u'#',\n",
       " u'https://www.yahoo.com/',\n",
       " u'https://login.yahoo.com/config/login?.src=fpctx&.intl=us&.lang=en-US&.done=https%3A%2F%2Fwww.yahoo.com',\n",
       " u'https://www.yahoo.com/news/police-arrest-waffle-house-shooting-181612840.html?.tsrc=bell-brknews',\n",
       " u'https://www.yahoo.com/lifestyle/royal-baby-watch-live-updates-news-duke-duchess-cambridges-third-childs-birth-084953524.html?.tsrc=bell-brknews',\n",
       " u'https://sports.yahoo.com/sean-manaea-stuns-red-sox-first-no-hitter-2018-032408097.html?.tsrc=bell-brknews',\n",
       " u'https://www.yahoo.com/entertainment/apos-austin-powers-apos-actor-204041665.html?.tsrc=bell-brknews',\n",
       " u'null',\n",
       " u'https://mail.yahoo.com/',\n",
       " u'https://login.yahoo.com/config/login?.src=fpctx&.intl=us&.lang=en-US&.done=https%3A%2F%2Fwww.yahoo.com',\n",
       " u'#mega-bottombar-mail',\n",
       " u'#Main',\n",
       " u'#Aside',\n",
       " u'https://mail.yahoo.com/',\n",
       " u'https://www.yahoo.com/news/',\n",
       " u'https://finance.yahoo.com/',\n",
       " u'https://sports.yahoo.com/',\n",
       " u'https://www.yahoo.com/news/politics/',\n",
       " u'https://www.yahoo.com/entertainment/',\n",
       " u'https://www.yahoo.com/lifestyle/',\n",
       " u'https://www.yahoo.com/everything/',\n",
       " u'https://www.yahoo.com/news/professor-sold-facebook-data-cambridge-111704976.html',\n",
       " u'https://www.yahoo.com/news/professor-sold-facebook-data-cambridge-111704976.html',\n",
       " u'https://www.yahoo.com/lifestyle/royal-baby-watch-live-updates-news-duke-duchess-cambridges-third-childs-birth-084953524.html',\n",
       " u'https://www.yahoo.com/news/news/waffle-house-suspect-still-being-sought-residents-alert-051218724.html',\n",
       " u'https://www.yahoo.com/news/macaulay-culkin-tells-ellen-why-140534464.html',\n",
       " u'https://www.yahoo.com/entertainment/yo-idol-raps-jurnee-makes-history-top-14-show-031910151.html',\n",
       " u'https://www.yahoo.com/lifestyle/princess-charlotte-fends-off-new-baby-brother-makes-royal-history-total-girl-power-move-134420762.html',\n",
       " u'https://www.yahoo.com/lifestyle/twitter-erupts-obama-makes-melania-041741861.html',\n",
       " u'https://www.yahoo.com/lifestyle/twitter-erupts-obama-makes-melania-041741861.html',\n",
       " u'https://www.yahoo.com/lifestyle/twitter-erupts-obama-makes-melania-041741861.html',\n",
       " u'https://www.yahoo.com/lifestyle/barack-obama-made-melania-trump-174100803.html',\n",
       " u'https://www.yahoo.com/news/m/dbe74b20-ac81-3524-b189-c36ff92237d1/ss_trump%27s-score-settling.html',\n",
       " u'https://www.yahoo.com/lifestyle/twitter-erupts-obama-makes-melania-041741861.html',\n",
       " u'https://beap.gemini.yahoo.com/mbclk?bv=1.0.0&es=vA6YnDIGIS9dKBTIbT7YojPA5nSVsuDRMtBaOaIBnuG93F0FH8jQAmqCJ3k.37DhBAZUl1vyc7uMYQOefbFM4sAE8DXD7noElOIjxnJZSv4g3neZVHO0DXP9YZT7MEUilSAebDCzLD1QRh9KqbbepTs5Imh7hivykWoNO6d7vvZrjTUzT9KxIujH7Gs2x4bspjcOiRF_4ab7MAPTVaCB5z65Y3rxvwaANI4b7_7vFqTS3DcxSckdjBDp7t9zsUy_ncQz5tq_i2.LRudt56r5b2q_pn46eDpIYP_HszhIQqOkXldvdPxFm3n3nM95na4pEUdo_IFNN3bymlfvGptCDtWTxbB3gTM0Juke9acGIxrntapJHqzDFW1E7ISFXg6_QX0Y7HtROqb43KATXK_lfMjFR9CoV01Eo7zhboJ9tHR6N0BWb.tWbtLDx2ESilQWaxla3lGXdIrHBs_6fZLp2ei5PI2z6fxKf_ZiObtFgDJP.m7NST0HoUCr6YK1FGuQi5z2Ky1VxTZzDq4vy1ClJ1V31bsJiB1N0dZd.6myXbH2HxzS45wwQkuD8Z7txM53KwPHy2tHSo9vsCycjSZQeRw9O6.E0Q5aauU677WRjTbw6IOm6xePxor0Xkqx9nAkL2wfpGT7RYYiwjvOOTatABc-%26lp=https%3A%2F%2Fad.doubleclick.net%2Fddm%2Ftrackclk%2FN2998.Yahoo%2FB20574899.211340004%3Bdc_trk_aid%3D410787858%3Bdc_trk_cid%3D96288498%3Bdc_lat%3D%3Bdc_rdid%3D%3Btag_for_child_directed_treatment%3D',\n",
       " u'http://help.yahoo.com/kb/index?page=content&y=PROD_FRONT&locale=en_US&id=SLN14553',\n",
       " u'https://info.yahoo.com/privacy/us/yahoo/relevantads.html',\n",
       " u'https://beap.gemini.yahoo.com/mbclk?bv=1.0.0&es=vA6YnDIGIS9dKBTIbT7YojPA5nSVsuDRMtBaOaIBnuG93F0FH8jQAmqCJ3k.37DhBAZUl1vyc7uMYQOefbFM4sAE8DXD7noElOIjxnJZSv4g3neZVHO0DXP9YZT7MEUilSAebDCzLD1QRh9KqbbepTs5Imh7hivykWoNO6d7vvZrjTUzT9KxIujH7Gs2x4bspjcOiRF_4ab7MAPTVaCB5z65Y3rxvwaANI4b7_7vFqTS3DcxSckdjBDp7t9zsUy_ncQz5tq_i2.LRudt56r5b2q_pn46eDpIYP_HszhIQqOkXldvdPxFm3n3nM95na4pEUdo_IFNN3bymlfvGptCDtWTxbB3gTM0Juke9acGIxrntapJHqzDFW1E7ISFXg6_QX0Y7HtROqb43KATXK_lfMjFR9CoV01Eo7zhboJ9tHR6N0BWb.tWbtLDx2ESilQWaxla3lGXdIrHBs_6fZLp2ei5PI2z6fxKf_ZiObtFgDJP.m7NST0HoUCr6YK1FGuQi5z2Ky1VxTZzDq4vy1ClJ1V31bsJiB1N0dZd.6myXbH2HxzS45wwQkuD8Z7txM53KwPHy2tHSo9vsCycjSZQeRw9O6.E0Q5aauU677WRjTbw6IOm6xePxor0Xkqx9nAkL2wfpGT7RYYiwjvOOTatABc-%26lp=https%3A%2F%2Fad.doubleclick.net%2Fddm%2Ftrackclk%2FN2998.Yahoo%2FB20574899.211340004%3Bdc_trk_aid%3D410787858%3Bdc_trk_cid%3D96288498%3Bdc_lat%3D%3Bdc_rdid%3D%3Btag_for_child_directed_treatment%3D',\n",
       " u'https://beap.gemini.yahoo.com/mbclk?bv=1.0.0&es=vA6YnDIGIS9dKBTIbT7YojPA5nSVsuDRMtBaOaIBnuG93F0FH8jQAmqCJ3k.37DhBAZUl1vyc7uMYQOefbFM4sAE8DXD7noElOIjxnJZSv4g3neZVHO0DXP9YZT7MEUilSAebDCzLD1QRh9KqbbepTs5Imh7hivykWoNO6d7vvZrjTUzT9KxIujH7Gs2x4bspjcOiRF_4ab7MAPTVaCB5z65Y3rxvwaANI4b7_7vFqTS3DcxSckdjBDp7t9zsUy_ncQz5tq_i2.LRudt56r5b2q_pn46eDpIYP_HszhIQqOkXldvdPxFm3n3nM95na4pEUdo_IFNN3bymlfvGptCDtWTxbB3gTM0Juke9acGIxrntapJHqzDFW1E7ISFXg6_QX0Y7HtROqb43KATXK_lfMjFR9CoV01Eo7zhboJ9tHR6N0BWb.tWbtLDx2ESilQWaxla3lGXdIrHBs_6fZLp2ei5PI2z6fxKf_ZiObtFgDJP.m7NST0HoUCr6YK1FGuQi5z2Ky1VxTZzDq4vy1ClJ1V31bsJiB1N0dZd.6myXbH2HxzS45wwQkuD8Z7txM53KwPHy2tHSo9vsCycjSZQeRw9O6.E0Q5aauU677WRjTbw6IOm6xePxor0Xkqx9nAkL2wfpGT7RYYiwjvOOTatABc-%26lp=https%3A%2F%2Fad.doubleclick.net%2Fddm%2Ftrackclk%2FN2998.Yahoo%2FB20574899.211340004%3Bdc_trk_aid%3D410787858%3Bdc_trk_cid%3D96288498%3Bdc_lat%3D%3Bdc_rdid%3D%3Btag_for_child_directed_treatment%3D',\n",
       " u'javascript:void(0)',\n",
       " u'https://www.yahoo.com/news/m/e9fd7b55-6ca6-3da7-89bb-6757bd22b4e5/ss_woman-who-married-her-birth.html',\n",
       " u'https://www.yahoo.com/news/m/e9fd7b55-6ca6-3da7-89bb-6757bd22b4e5/ss_woman-who-married-her-birth.html',\n",
       " u'https://www.yahoo.com/news/m/e9fd7b55-6ca6-3da7-89bb-6757bd22b4e5/ss_woman-who-married-her-birth.html',\n",
       " u'https://www.yahoo.com/lifestyle/royal-baby-photos-kate-middleton-165656657.html',\n",
       " u'https://www.yahoo.com/lifestyle/royal-baby-photos-kate-middleton-165656657.html',\n",
       " u'https://www.yahoo.com/lifestyle/royal-baby-photos-kate-middleton-165656657.html',\n",
       " u'https://www.yahoo.com/entertainment/prince-george-princess-charlotte-visit-155345803.html',\n",
       " u'https://www.yahoo.com/entertainment/m/2c7988af-23a4-3c17-8910-9541ad8c92f5/ss_royal-baby-watchers-set-up.html',\n",
       " u'https://www.yahoo.com/lifestyle/royal-baby-photos-kate-middleton-165656657.html',\n",
       " u'https://www.yahoo.com/news/m/c28c826b-2975-3fd4-92d4-676cfbd018a5/ss_first-ever-ocean-plastic.html',\n",
       " u'https://www.yahoo.com/news/m/c28c826b-2975-3fd4-92d4-676cfbd018a5/ss_first-ever-ocean-plastic.html',\n",
       " u'https://www.yahoo.com/news/m/c28c826b-2975-3fd4-92d4-676cfbd018a5/ss_first-ever-ocean-plastic.html',\n",
       " u'https://www.yahoo.com/news/m/8e9a7113-ed11-3016-b93b-25fcf7c4ce4c/ss_no-way-out%3F-aliens-on.html',\n",
       " u'https://www.yahoo.com/news/m/8e9a7113-ed11-3016-b93b-25fcf7c4ce4c/ss_no-way-out%3F-aliens-on.html',\n",
       " u'https://www.yahoo.com/news/m/8e9a7113-ed11-3016-b93b-25fcf7c4ce4c/ss_no-way-out%3F-aliens-on.html',\n",
       " u'https://www.yahoo.com/news/aliens-could-trapped-super-earth-144451116.html',\n",
       " u'https://www.yahoo.com/news/super-earths-apos-gravity-may-145300161.html',\n",
       " u'https://www.yahoo.com/news/m/8e9a7113-ed11-3016-b93b-25fcf7c4ce4c/ss_no-way-out%3F-aliens-on.html',\n",
       " u'https://beap.gemini.yahoo.com/mbclk?bv=1.0.0&es=PkeNo_0GIS.gSMKAdkMP5pFQhT9paXFKyJYd4jfKUm.o9g8sKTVtXV_64zjeX_P7LM5FJd0tAKwtQW5fDE9VeE8bOClJEqfcMVlQdRa5MY1XLZZ9TYR1uOCy0e1M1KXWTxpoAi_Y_cOTmUHPAmA5loZo_yY_hrvXkcJ3PXYONeDT0AgU0sLPiOJ4jcBaxhmzcC3I5O_RqxG_1Kgwd6xdETYpyyOT3CF2kdrsVscD9zFdnv2mRpAmBiAjf.fugNEP3ZfxqujfzuC9j80JF35RKnIvJ.kRZbL4LyTQpK9SYbWw2MnbweGkeFD2_ij5R_5OXUDf6pyQrjUvPUszDew4kGhBZHNnv9Rtk4SGnE6zE3ohx606Nn4bRbolhomq048kc0Od4A0vgLTrCSbbgaY4llinhBCvks57SNWDiuMMCs2Cgf5CuYLMteXTyzo56f5XmjBfGD2pK5OGnhTecB3qfV3q6YY6iSV6mpTX4e0gO7grVL.za3Xkqqzy.PZ33mHv4pLJOqBHYxfr3kPwugY7vtkQM1nhp5Dir2tZFqx4VqPJIER1QpDoQVh6g3lWgsH37o0WI3_fEx.3AupCOjQ9ORWIbe0MT4QlXDv5Ez6ecuw1GzygmPwwhQdoSHak3x2omo3w0_WnZ8jXWI22TYkDXGGqBN6Zix4zFjpUJCmJbcuH42TYtb3efY1qg_qdapwZXU83e3mPYTdWjVV6EC381GLG3wu4wGEI48rCVYsTs3caXeQ3wyLn2nzaWZk-%26lp=https%3A%2F%2Fs.rfihub.com%2Ftclick%3F_o%3D15755%26_t%3Ddfa_211409891%26redirect%3Dhttps%3A%2F%2Fad.doubleclick.net%2Fddm%2Ftrackclk%2FN7285.3020245OATH.COM%2FB20562733.211409891%3Bdc_trk_aid%3D411182625%3Bdc_trk_cid%3D96477823%3Bdc_lat%3D%3Bdc_rdid%3D%3Btag_for_child_directed_treatment%3D',\n",
       " u'http://help.yahoo.com/kb/index?page=content&y=PROD_FRONT&locale=en_US&id=SLN14553',\n",
       " u'https://info.yahoo.com/privacy/us/yahoo/relevantads.html',\n",
       " u'https://beap.gemini.yahoo.com/mbclk?bv=1.0.0&es=PkeNo_0GIS.gSMKAdkMP5pFQhT9paXFKyJYd4jfKUm.o9g8sKTVtXV_64zjeX_P7LM5FJd0tAKwtQW5fDE9VeE8bOClJEqfcMVlQdRa5MY1XLZZ9TYR1uOCy0e1M1KXWTxpoAi_Y_cOTmUHPAmA5loZo_yY_hrvXkcJ3PXYONeDT0AgU0sLPiOJ4jcBaxhmzcC3I5O_RqxG_1Kgwd6xdETYpyyOT3CF2kdrsVscD9zFdnv2mRpAmBiAjf.fugNEP3ZfxqujfzuC9j80JF35RKnIvJ.kRZbL4LyTQpK9SYbWw2MnbweGkeFD2_ij5R_5OXUDf6pyQrjUvPUszDew4kGhBZHNnv9Rtk4SGnE6zE3ohx606Nn4bRbolhomq048kc0Od4A0vgLTrCSbbgaY4llinhBCvks57SNWDiuMMCs2Cgf5CuYLMteXTyzo56f5XmjBfGD2pK5OGnhTecB3qfV3q6YY6iSV6mpTX4e0gO7grVL.za3Xkqqzy.PZ33mHv4pLJOqBHYxfr3kPwugY7vtkQM1nhp5Dir2tZFqx4VqPJIER1QpDoQVh6g3lWgsH37o0WI3_fEx.3AupCOjQ9ORWIbe0MT4QlXDv5Ez6ecuw1GzygmPwwhQdoSHak3x2omo3w0_WnZ8jXWI22TYkDXGGqBN6Zix4zFjpUJCmJbcuH42TYtb3efY1qg_qdapwZXU83e3mPYTdWjVV6EC381GLG3wu4wGEI48rCVYsTs3caXeQ3wyLn2nzaWZk-%26lp=https%3A%2F%2Fs.rfihub.com%2Ftclick%3F_o%3D15755%26_t%3Ddfa_211409891%26redirect%3Dhttps%3A%2F%2Fad.doubleclick.net%2Fddm%2Ftrackclk%2FN7285.3020245OATH.COM%2FB20562733.211409891%3Bdc_trk_aid%3D411182625%3Bdc_trk_cid%3D96477823%3Bdc_lat%3D%3Bdc_rdid%3D%3Btag_for_child_directed_treatment%3D',\n",
       " u'https://beap.gemini.yahoo.com/mbclk?bv=1.0.0&es=PkeNo_0GIS.gSMKAdkMP5pFQhT9paXFKyJYd4jfKUm.o9g8sKTVtXV_64zjeX_P7LM5FJd0tAKwtQW5fDE9VeE8bOClJEqfcMVlQdRa5MY1XLZZ9TYR1uOCy0e1M1KXWTxpoAi_Y_cOTmUHPAmA5loZo_yY_hrvXkcJ3PXYONeDT0AgU0sLPiOJ4jcBaxhmzcC3I5O_RqxG_1Kgwd6xdETYpyyOT3CF2kdrsVscD9zFdnv2mRpAmBiAjf.fugNEP3ZfxqujfzuC9j80JF35RKnIvJ.kRZbL4LyTQpK9SYbWw2MnbweGkeFD2_ij5R_5OXUDf6pyQrjUvPUszDew4kGhBZHNnv9Rtk4SGnE6zE3ohx606Nn4bRbolhomq048kc0Od4A0vgLTrCSbbgaY4llinhBCvks57SNWDiuMMCs2Cgf5CuYLMteXTyzo56f5XmjBfGD2pK5OGnhTecB3qfV3q6YY6iSV6mpTX4e0gO7grVL.za3Xkqqzy.PZ33mHv4pLJOqBHYxfr3kPwugY7vtkQM1nhp5Dir2tZFqx4VqPJIER1QpDoQVh6g3lWgsH37o0WI3_fEx.3AupCOjQ9ORWIbe0MT4QlXDv5Ez6ecuw1GzygmPwwhQdoSHak3x2omo3w0_WnZ8jXWI22TYkDXGGqBN6Zix4zFjpUJCmJbcuH42TYtb3efY1qg_qdapwZXU83e3mPYTdWjVV6EC381GLG3wu4wGEI48rCVYsTs3caXeQ3wyLn2nzaWZk-%26lp=https%3A%2F%2Fs.rfihub.com%2Ftclick%3F_o%3D15755%26_t%3Ddfa_211409891%26redirect%3Dhttps%3A%2F%2Fad.doubleclick.net%2Fddm%2Ftrackclk%2FN7285.3020245OATH.COM%2FB20562733.211409891%3Bdc_trk_aid%3D411182625%3Bdc_trk_cid%3D96477823%3Bdc_lat%3D%3Bdc_rdid%3D%3Btag_for_child_directed_treatment%3D',\n",
       " u'javascript:void(0)',\n",
       " u'https://www.yahoo.com/entertainment/m/44799966-0aed-3467-ac6a-d6bb15699121/ss_anthony-bourdain%E2%80%99s-journey.html',\n",
       " u'https://www.yahoo.com/entertainment/m/44799966-0aed-3467-ac6a-d6bb15699121/ss_anthony-bourdain%E2%80%99s-journey.html',\n",
       " u'https://www.yahoo.com/entertainment/m/44799966-0aed-3467-ac6a-d6bb15699121/ss_anthony-bourdain%E2%80%99s-journey.html',\n",
       " u'https://search.yahoo.com/search?p=Barack+Obama&fr=fp-tts&fr2=p:fp,m:tn,ct:all,kt:org,pg:1,stl:crsl,b:',\n",
       " u'https://search.yahoo.com/search?p=Ricky+Rubio&fr=fp-tts&fr2=p:fp,m:tn,ct:all,kt:org,pg:1,stl:crsl,b:',\n",
       " u'https://search.yahoo.com/search?p=Arsene+Wenger&fr=fp-tts&fr2=p:fp,m:tn,ct:all,kt:org,pg:1,stl:crsl,b:',\n",
       " u'https://search.yahoo.com/search?p=Thandie+Newton&fr=fp-tts&fr2=p:fp,m:tn,ct:all,kt:org,pg:1,stl:crsl,b:',\n",
       " u'https://search.yahoo.com/search?p=Cadillac+Ct6&fr=fp-tts&fr2=p:fp,m:tn,ct:all,kt:rev,pg:1,stl:crsl,b:',\n",
       " u'https://search.yahoo.com/search?p=Jetblue+Flights&fr=fp-tts&fr2=p:fp,m:tn,ct:all,kt:rev,pg:1,stl:crsl,b:',\n",
       " u'https://search.yahoo.com/search?p=Kyrie+Irving&fr=fp-tts&fr2=p:fp,m:tn,ct:all,kt:org,pg:1,stl:crsl,b:',\n",
       " u'https://search.yahoo.com/search?p=Janelle+Monae&fr=fp-tts&fr2=p:fp,m:tn,ct:all,kt:org,pg:1,stl:crsl,b:',\n",
       " u'https://search.yahoo.com/search?p=MotoGP+2018&fr=fp-tts&fr2=p:fp,m:tn,ct:all,kt:org,pg:1,stl:crsl,b:',\n",
       " u'https://search.yahoo.com/search?p=Online+Women+Dating&fr=fp-tts&fr2=p:fp,m:tn,ct:all,kt:rev,pg:1,stl:crsl,b:',\n",
       " u'https://weather.yahoo.com',\n",
       " u'https://weather.yahoo.com/us/new-york/new-york-12761374/',\n",
       " u'https://weather.yahoo.com/us/new-york/new-york-12761374/',\n",
       " u'https://weather.yahoo.com/us/new-york/new-york-12761374/',\n",
       " u'https://weather.yahoo.com/us/new-york/new-york-12761374/',\n",
       " u'https://view.yahoo.com/?utm_source=yahoo&utm_medium=referral&utm_campaign=fpmodule',\n",
       " u'https://view.yahoo.com/show/the-tonight-show-starring-jimmy-fallon/episode/61101003/anthony-mackie-ralph-macchio-kiry-shabazz/?utm_source=yahoo&utm_medium=referral&utm_campaign=fpmodule',\n",
       " u'https://view.yahoo.com/show/superstore/episode/61099918/gender-reveal/?utm_source=yahoo&utm_medium=referral&utm_campaign=fpmodule',\n",
       " u'https://view.yahoo.com/show/the-voice/episode/61099839/the-live-playoffs-night-3/?utm_source=yahoo&utm_medium=referral&utm_campaign=fpmodule',\n",
       " u'https://view.yahoo.com/show/law-and-order-special-victims-unit/episode/61099603/sunk-cost-fallacy/?utm_source=yahoo&utm_medium=referral&utm_campaign=fpmodule',\n",
       " u'https://view.yahoo.com/?utm_source=yahoo&utm_medium=referral&utm_campaign=fpmodule',\n",
       " u'https://sports.yahoo.com/mlb/atlanta-braves-cincinnati-reds-380423117/',\n",
       " u'https://sports.yahoo.com/mlb/cleveland-indians-baltimore-orioles-380423101/',\n",
       " u'https://sports.yahoo.com/mlb/minnesota-twins-new-york-yankees-380423110/',\n",
       " u'https://sports.yahoo.com/mlb/oakland-athletics-texas-rangers-380423113/',\n",
       " u'https://sports.yahoo.com/mlb/seattle-mariners-chicago-white-sox-380423104/',\n",
       " u'https://sports.yahoo.com/mlb/los-angeles-angels-houston-astros-380423118/',\n",
       " u'',\n",
       " u'#',\n",
       " u'http://www.yahoo.com/lifestyle/horoscope/taurus/daily-20180423.html',\n",
       " u'https://overview.mail.yahoo.com/',\n",
       " u'https://baseball.fantasysports.yahoo.com/b1/signup',\n",
       " u'http://info.yahoo.com/legal/us/yahoo/utos/terms/',\n",
       " u'https://policies.yahoo.com/us/en/yahoo/privacy/index.htm',\n",
       " u'https://advertising.yahoo.com/',\n",
       " u'http://info.yahoo.com/privacy/us/yahoo/relevantads.html',\n",
       " u'http://careers.yahoo.com/us',\n",
       " u'http://help.yahoo.com/l/us/yahoo/helpcentral/',\n",
       " u'https://yahoo.uservoice.com/forums/341361-yahoo-home']"
      ]
     },
     "execution_count": 139,
     "metadata": {},
     "output_type": "execute_result"
    }
   ],
   "source": [
    "links"
   ]
  },
  {
   "cell_type": "code",
   "execution_count": 141,
   "metadata": {},
   "outputs": [],
   "source": [
    "import requests\n",
    "\n",
    "r = requests.get('https://beap.gemini.yahoo.com/mbclk?bv=1.0.0&es=vA6YnDIGIS9dKBTIbT7YojPA5nSVsuDRMtBaOaIBnuG93F0FH8jQAmqCJ3k.37DhBAZUl1vyc7uMYQOefbFM4sAE8DXD7noElOIjxnJZSv4g3neZVHO0DXP9YZT7MEUilSAebDCzLD1QRh9KqbbepTs5Imh7hivykWoNO6d7vvZrjTUzT9KxIujH7Gs2x4bspjcOiRF_4ab7MAPTVaCB5z65Y3rxvwaANI4b7_7vFqTS3DcxSckdjBDp7t9zsUy_ncQz5tq_i2.LRudt56r5b2q_pn46eDpIYP_HszhIQqOkXldvdPxFm3n3nM95na4pEUdo_IFNN3bymlfvGptCDtWTxbB3gTM0Juke9acGIxrntapJHqzDFW1E7ISFXg6_QX0Y7HtROqb43KATXK_lfMjFR9CoV01Eo7zhboJ9tHR6N0BWb.tWbtLDx2ESilQWaxla3lGXdIrHBs_6fZLp2ei5PI2z6fxKf_ZiObtFgDJP.m7NST0HoUCr6YK1FGuQi5z2Ky1VxTZzDq4vy1ClJ1V31bsJiB1N0dZd.6myXbH2HxzS45wwQkuD8Z7txM53KwPHy2tHSo9vsCycjSZQeRw9O6.E0Q5aauU677WRjTbw6IOm6xePxor0Xkqx9nAkL2wfpGT7RYYiwjvOOTatABc-%26lp=https%3A%2F%2Fad.doubleclick.net%2Fddm%2Ftrackclk%2FN2998.Yahoo%2FB20574899.211340004%3Bdc_trk_aid%3D410787858%3Bdc_trk_cid%3D96288498%3Bdc_lat%3D%3Bdc_rdid%3D%3Btag_for_child_directed_treatment%3D',\n",
    " u'http://help.yahoo.com/kb/index?page=content&y=PROD_FRONT&locale=en_US&id=SLN14553')"
   ]
  },
  {
   "cell_type": "code",
   "execution_count": 142,
   "metadata": {},
   "outputs": [
    {
     "data": {
      "text/plain": [
       "200"
      ]
     },
     "execution_count": 142,
     "metadata": {},
     "output_type": "execute_result"
    }
   ],
   "source": [
    "r.status_code"
   ]
  },
  {
   "cell_type": "code",
   "execution_count": 72,
   "metadata": {},
   "outputs": [],
   "source": [
    "ad_links = []\n",
    "for item in aHref_w:\n",
    "    if item not in aHref:\n",
    "        ad_links.append(item)\n",
    "        \n",
    "ad_src = []\n",
    "for item in imgTagSrc_w:\n",
    "    if item not in imgTagSrc:\n",
    "        ad_src.append(item)"
   ]
  },
  {
   "cell_type": "code",
   "execution_count": 83,
   "metadata": {},
   "outputs": [],
   "source": [
    "aList_w = soup_w.body.find_all('a')"
   ]
  },
  {
   "cell_type": "code",
   "execution_count": 95,
   "metadata": {},
   "outputs": [],
   "source": [
    "items=[]\n",
    "for item in aList_w:\n",
    "    try:\n",
    "        items.append(item['href'])\n",
    "    except:\n",
    "        pass"
   ]
  },
  {
   "cell_type": "code",
   "execution_count": 99,
   "metadata": {},
   "outputs": [
    {
     "data": {
      "text/plain": [
       "[u'https://s.yimg.com/cv/ae/news/Orange-Breaking.png',\n",
       " u'https://s.yimg.com/cv/ae/news/Purple-News.png',\n",
       " u'https://s.yimg.com/cv/ae/news/Purple-News.png',\n",
       " u'https://s.yimg.com/cv/ae/news/Purple-News.png',\n",
       " u'https://beap-bc.yahoo.com/yi?bv=1.0.0&bs=(1364r6a18(gid%24FJULcjc0LjZWoCT6Wt4rrz0YMTI4LgAAAACOGntD,st%241524509615794219,si%244452051,sp%242023538075,pv%241,v%242.0))&t=J_3-D_3&al=(as%24125g6csg8,aid%240XqFp2KLD2w-,cr%24-1,ct%2425,at%24H,eob%24gd1_match_id=-1:ypos=MAST)',\n",
       " u'https://s.yimg.com/uu/api/res/1.2/vZizHqd2QfiakKMB.DSEgQ--~B/Zmk9c3RyaW07aD0zODg7cHlvZmY9MDtxPTk1O3c9NzIwO3NtPTE7YXBwaWQ9eXRhY2h5b24-/http://media.zenfs.com/en-US/homerun/the_huffington_post_584/a835d1be62a1eca3cf3cef2859a6cbb1',\n",
       " u'https://s.yimg.com/uu/api/res/1.2/pENT9XYRxpkwrcB6dyUY2Q--~B/Zmk9c3RyaW07aD0xNjA7cHlvZmY9MDtxPTgwO3c9MzQwO3NtPTE7YXBwaWQ9eXRhY2h5b24-/https://media.zenfs.com/creatr-images/GLB/2018-04-23/3f5c2230-4718-11e8-846c-697e8491e9ce_babyAP.jpg.cf.jpg',\n",
       " u'https://s.yimg.com/uu/api/res/1.2/Qc8yJXLQ8o2ld68L53b1yg--~B/Zmk9c3RyaW07aD0xNjA7cHlvZmY9MDtxPTgwO3c9MzQwO3NtPTE7YXBwaWQ9eXRhY2h5b24-/https://media.zenfs.com/creatr-images/GLB/2018-04-23/639f2910-4724-11e8-b724-e1fa95ca701d_NTK_waffle_house_v2.jpg.cf.jpg',\n",
       " u'https://s.yimg.com/uu/api/res/1.2/1xwF9FxKVvsyuTcqUoT7PA--~B/Zmk9c3RyaW07aD0xNjA7cHlvZmY9MDtxPTgwO3c9MzQwO3NtPTE7YXBwaWQ9eXRhY2h5b24-/https://media.zenfs.com/creatr-images/GLB/2018-04-23/9c788e50-4712-11e8-ad8d-753471bf74e4_image-8781',\n",
       " u'https://s.yimg.com/uu/api/res/1.2/tj_v2kHYBlypIk4L9YN14w--~B/Zmk9c3RyaW07aD0xNjA7cHlvZmY9MDtxPTgwO3c9MzQwO3NtPTE7YXBwaWQ9eXRhY2h5b24-/https://media.zenfs.com/creatr-images/GLB/2018-04-23/2fa8d480-46a2-11e8-b516-c9bed949fa49_SuperfanTV_s2018e079A_NIGHT_AmericanIdol_THUMB.png.cf.jpg',\n",
       " u'https://s.yimg.com/uu/api/res/1.2/03C7780KQOQmLwJsD91IPw--~B/Zmk9c3RyaW07aD0xNjA7cHlvZmY9MDtxPTgwO3c9MzQwO3NtPTE7YXBwaWQ9eXRhY2h5b24-/https://media.zenfs.com/creatr-images/GLB/2018-04-23/2d3fe730-4718-11e8-80ee-1f81adf26172_image-358',\n",
       " u'https://s.yimg.com/uu/api/res/1.2/EtCXMAlgsg.QnA6sP2.3tA--~B/Zmk9c3RyaW07aD0xOTM7cHlvZmY9MDtxPTk1O3c9MjIwO3NtPTE7YXBwaWQ9eXRhY2h5b24-/http://media.zenfs.com/en-US/homerun/the_huffington_post_584/23c18deddf2c70c3b0decf7abf53b069',\n",
       " u'https://s.yimg.com/uu/api/res/1.2/y8t_qB.xRgKM6cK.dFeOvQ--~B/Zmk9c3RyaW07aD0xNDA7cHlvZmY9MDtxPTkwO3c9MTQwO3NtPTE7YXBwaWQ9eXRhY2h5b24-/http://media.zenfs.com/en-US/homerun/cosmopolitan_438/9016c1f59cda371159ef07b642850614',\n",
       " u'https://s.yimg.com/uu/api/res/1.2/4DDcgCzIOY8dPk81o5EC6A--~B/Zmk9c3RyaW07aD0xNDA7cHlvZmY9MDtxPTkwO3c9MTQwO3NtPTE7YXBwaWQ9eXRhY2h5b24-/http://l.yimg.com/yp/offnetwork/d904e18663c33a6f872627a12053d4c8',\n",
       " u'https://s.yimg.com/uu/api/res/1.2/DD4AWqLoJILMsrTkKN2GbQ--~B/Zmk9c3RyaW07aD0xOTg7cHlvZmY9MDtxPTgwO3c9MzgwO3NtPTE7YXBwaWQ9eXRhY2h5b24-/https://s.yimg.com/av/moneyball/ads/1514932080036-3047.jpg.cf.jpg',\n",
       " u'https://s.yimg.com/uu/api/res/1.2/BLs2LeX7FlMzPThRDZofBQ--~B/Zmk9c3RyaW07aD0yMTQ7cHlvZmY9MDtxPTgwO3c9MzgwO3NtPTE7YXBwaWQ9eXRhY2h5b24-/http://l.yimg.com/yp/offnetwork/42dc9893553eb2ad9f82481eea54d302',\n",
       " u'https://s.yimg.com/uu/api/res/1.2/6mtaH7t3tFBDFUl8UjPYgQ--~B/Zmk9c3RyaW07aD0zODY7cHlvZmY9MDtxPTgwO3c9NDQwO3NtPTE7YXBwaWQ9eXRhY2h5b24-/http://media.zenfs.com/en-US/homerun/vanity_fair_400/b7c8b78b41fa41676f3af73fed67b776',\n",
       " u'https://s.yimg.com/uu/api/res/1.2/jeTX296SWnQvwYA0jCnGUQ--~B/Zmk9c3RyaW07aD0xNDA7cHlvZmY9MDtxPTkwO3c9MTQwO3NtPTE7YXBwaWQ9eXRhY2h5b24-/http://media.zenfs.com/en-us/video/video.people.time.com/c0a63a4caceba5b9e432f186e2ba5e74',\n",
       " u'https://s.yimg.com/uu/api/res/1.2/9dbMm91i2Itd_HIwCwn0Qw--~B/Zmk9c3RyaW07aD0xNDA7cHlvZmY9MDtxPTkwO3c9MTQwO3NtPTE7YXBwaWQ9eXRhY2h5b24-/http://l.yimg.com/yp/offnetwork/4afa758f57330a2ee88d062fbb9bb9fe',\n",
       " u'https://s.yimg.com/uu/api/res/1.2/7RejeuuY7L6MLloEN6so3Q--~B/Zmk9c3RyaW07aD0yMTQ7cHlvZmY9MDtxPTgwO3c9MzgwO3NtPTE7YXBwaWQ9eXRhY2h5b24-/http://l.yimg.com/yp/offnetwork/6a3f2dcc4d518a9c22e105c3f59d9c2a',\n",
       " u'https://s.yimg.com/os/mit/ape/m/81f43c2/t.gif',\n",
       " u'https://s.yimg.com/os/mit/ape/m/81f43c2/t.gif',\n",
       " u'https://s.yimg.com/os/mit/ape/m/81f43c2/t.gif',\n",
       " u'https://s.yimg.com/os/mit/ape/m/81f43c2/t.gif',\n",
       " u'https://s.yimg.com/os/mit/ape/m/81f43c2/t.gif',\n",
       " u'https://s.yimg.com/os/mit/ape/m/81f43c2/t.gif',\n",
       " u'https://beap-bc.yahoo.com/yi?bv=1.0.0&bs=(1364r6a18(gid%24FJULcjc0LjZWoCT6Wt4rrz0YMTI4LgAAAACOGntD,st%241524509615794219,si%244452051,sp%242023538075,pv%241,v%242.0))&t=J_3-D_3&al=(as%24125oah5bp,aid%24TquDp2KLD2w-,cr%24-1,ct%2425,at%24H,eob%24gd1_match_id=-1:ypos=FPAD)',\n",
       " u'https://s.yimg.com/os/mit/ape/w/d8f6e02/dark/clear_day.png',\n",
       " u'https://s.yimg.com/os/mit/ape/w/d8f6e02/dark/cloudy_day_night.png',\n",
       " u'https://s.yimg.com/os/mit/ape/w/d8f6e02/dark/rain_day_night.png',\n",
       " u'https://s.yimg.com/os/mit/ape/w/d8f6e02/dark/mostly_cloudy_day_night.png',\n",
       " u'https://s1.yimg.com/uu/api/res/1.2/Fwuo.ojSR2xjmulSJrkXDQ--/YXBwaWQ9eXRhY2h5b247aD0xNjQ7dz0yOTA7/https://ibdp.videovore.com/video/61101003?size=512x288',\n",
       " u'https://s2.yimg.com/uu/api/res/1.2/SmSKf.bzUXo6R5L0eQVvjA--/YXBwaWQ9eXRhY2h5b247aD0xNjQ7dz0yOTA7/https://ibdp.videovore.com/video/61099918?size=512x288',\n",
       " u'https://s.yimg.com/uu/api/res/1.2/5JaDWnvvA29BOMv4Zr2mmQ--/YXBwaWQ9eXRhY2h5b247aD0xNjQ7dz0yOTA7/https://ibdp.videovore.com/video/61099839?size=512x288',\n",
       " u'https://s1.yimg.com/uu/api/res/1.2/.._Y4oMGcoFWBYI1HEJ37w--/YXBwaWQ9eXRhY2h5b247aD0xNjQ7dz0yOTA7/https://ibdp.videovore.com/video/61099603?size=512x288',\n",
       " u'https://s.yimg.com/os/mit/ape/m/81f43c2/t.gif',\n",
       " u'https://s.yimg.com/os/mit/ape/m/81f43c2/t.gif',\n",
       " u'https://s.yimg.com/os/mit/ape/m/81f43c2/t.gif',\n",
       " u'https://s.yimg.com/os/mit/ape/m/81f43c2/t.gif',\n",
       " u'https://s.yimg.com/os/mit/ape/m/81f43c2/t.gif',\n",
       " u'https://s.yimg.com/os/mit/ape/m/81f43c2/t.gif',\n",
       " u'https://s.yimg.com/os/mit/ape/m/81f43c2/t.gif',\n",
       " u'https://s.yimg.com/os/mit/ape/m/81f43c2/t.gif',\n",
       " u'https://s.yimg.com/os/mit/ape/m/81f43c2/t.gif',\n",
       " u'https://s.yimg.com/os/mit/ape/m/81f43c2/t.gif',\n",
       " u'https://s.yimg.com/os/mit/ape/m/81f43c2/t.gif',\n",
       " u'https://s.yimg.com/os/mit/ape/m/81f43c2/t.gif',\n",
       " u'https://s.yimg.com/os/mit/ape/m/81f43c2/t.gif',\n",
       " u'https://sb.scorecardresearch.com/p?c1=2&c2=7241469&c7=https%3A%2F%2Fwww.yahoo.com%2F&c5=2023538075&cv=2.0&cj=1']"
      ]
     },
     "execution_count": 99,
     "metadata": {},
     "output_type": "execute_result"
    }
   ],
   "source": [
    "imgTagSrc_w"
   ]
  },
  {
   "cell_type": "code",
   "execution_count": 79,
   "metadata": {},
   "outputs": [],
   "source": [
    "ad_src = []\n",
    "for src in imgTagSrc:\n",
    "    if \"yimg\" not in src:\n",
    "        ad_src.append(src)"
   ]
  },
  {
   "cell_type": "code",
   "execution_count": 24,
   "metadata": {},
   "outputs": [],
   "source": [
    "fileName = './downloadImages'\n",
    "for src in ad_src:\n",
    "    try:\n",
    "        imgData = urllib2.urlopen(src).read()\n",
    "        fileName = basename(urlsplit(src)[2])\n",
    "        output = open(fileName,'wb')\n",
    "        output.write(imgData)\n",
    "        output.close()\n",
    "    except:\n",
    "        pass"
   ]
  },
  {
   "cell_type": "code",
   "execution_count": 30,
   "metadata": {},
   "outputs": [],
   "source": [
    "imgData = urllib2.urlopen(ad_src[2]).read()"
   ]
  },
  {
   "cell_type": "code",
   "execution_count": 28,
   "metadata": {},
   "outputs": [
    {
     "data": {
      "text/plain": [
       "'GIF89a\\x01\\x00\\x01\\x00\\x80\\x00\\x00\\xff\\xff\\xff\\x00\\x00\\x00!\\xf9\\x04\\x01\\x00\\x00\\x00\\x00,\\x00\\x00\\x00\\x00\\x01\\x00\\x01\\x00\\x00\\x02\\x02D\\x01\\x00;'"
      ]
     },
     "execution_count": 28,
     "metadata": {},
     "output_type": "execute_result"
    }
   ],
   "source": [
    "imgData"
   ]
  },
  {
   "cell_type": "code",
   "execution_count": null,
   "metadata": {},
   "outputs": [],
   "source": [
    "import urllib2\n",
    "from os.path import basename\n",
    "from urlparse import urlsplit\n",
    "from bs4 import BeautifulSoup # for HTML parsing\n",
    "\n",
    "global urlList\n",
    "urlList = []\n",
    "fileName = './downloadImages'\n",
    "# recursively download images starting from the root URL\n",
    "def downloadImages(url, level): # the root URL is level 0\n",
    "    print url\n",
    "    global urlList\n",
    "    if url in urlList: # prevent using the same URL again\n",
    "        return\n",
    "    urlList.append(url)\n",
    "    try:\n",
    "        urlContent = urllib2.urlopen(url).read()\n",
    "    except:\n",
    "        return\n",
    "\n",
    "    soup = BeautifulSoup(''.join(urlContent))\n",
    "    # find and download all images\n",
    "    imgTags = soup.findAll('img')\n",
    "    for imgTag in imgTags:\n",
    "        imgUrl = imgTag['src']\n",
    "        try:\n",
    "            imgData = urllib2.urlopen(imgUrl).read()\n",
    "            fileName = basename(urlsplit(imgUrl)[2])\n",
    "            output = open(fileName,'wb')\n",
    "            output.write(imgData)\n",
    "            output.close()\n",
    "        except:\n",
    "            pass\n",
    "\n",
    "    # if there are links on the webpage then recursively repeat\n",
    "    if level > 0:\n",
    "        linkTags = soup.findAll('a')\n",
    "        if len(linkTags) > 0:\n",
    "            for linkTag in linkTags:\n",
    "                try:\n",
    "                    linkUrl = linkTag['href']\n",
    "                    downloadImages(linkUrl, level - 1)\n",
    "                except:\n",
    "                    pass\n",
    "\n",
    "# main\n",
    "downloadImages('http://www.yahoo.com', 1)"
   ]
  },
  {
   "cell_type": "code",
   "execution_count": null,
   "metadata": {},
   "outputs": [],
   "source": []
  },
  {
   "cell_type": "code",
   "execution_count": null,
   "metadata": {},
   "outputs": [],
   "source": []
  }
 ],
 "metadata": {
  "kernelspec": {
   "display_name": "Python 2",
   "language": "python",
   "name": "python2"
  },
  "language_info": {
   "codemirror_mode": {
    "name": "ipython",
    "version": 2
   },
   "file_extension": ".py",
   "mimetype": "text/x-python",
   "name": "python",
   "nbconvert_exporter": "python",
   "pygments_lexer": "ipython2",
   "version": "2.7.14"
  }
 },
 "nbformat": 4,
 "nbformat_minor": 2
}
